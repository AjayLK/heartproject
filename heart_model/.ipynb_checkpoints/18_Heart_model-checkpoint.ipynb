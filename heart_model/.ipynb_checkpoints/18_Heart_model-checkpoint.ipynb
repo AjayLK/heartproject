{
 "cells": [
  {
   "cell_type": "code",
   "execution_count": 1,
   "id": "df947693",
   "metadata": {},
   "outputs": [],
   "source": [
    "import numpy as np\n",
    "import pandas as pd\n",
    "\n",
    "import matplotlib.pyplot as plt\n",
    "import seaborn as sns\n",
    "\n",
    "from sklearn.linear_model import LogisticRegression\n",
    "from sklearn.model_selection import train_test_split\n",
    "from sklearn.metrics import classification_report,confusion_matrix,accuracy_score\n",
    "from sklearn.metrics import precision_score,recall_score,f1_score\n",
    "from sklearn.metrics import plot_confusion_matrix,roc_curve\n",
    "\n",
    "import warnings\n",
    "warnings.filterwarnings('ignore')"
   ]
  },
  {
   "cell_type": "markdown",
   "id": "fc3dd64a",
   "metadata": {},
   "source": [
    "# Problem Statemet"
   ]
  },
  {
   "cell_type": "raw",
   "id": "2ab49f36",
   "metadata": {},
   "source": [
    "To predicting whether or not a patient has a heart disease by using various features"
   ]
  },
  {
   "cell_type": "markdown",
   "id": "f4e2292b",
   "metadata": {},
   "source": [
    "# Data Gathering"
   ]
  },
  {
   "cell_type": "code",
   "execution_count": 2,
   "id": "6fb70606",
   "metadata": {},
   "outputs": [
    {
     "data": {
      "text/html": [
       "<div>\n",
       "<style scoped>\n",
       "    .dataframe tbody tr th:only-of-type {\n",
       "        vertical-align: middle;\n",
       "    }\n",
       "\n",
       "    .dataframe tbody tr th {\n",
       "        vertical-align: top;\n",
       "    }\n",
       "\n",
       "    .dataframe thead th {\n",
       "        text-align: right;\n",
       "    }\n",
       "</style>\n",
       "<table border=\"1\" class=\"dataframe\">\n",
       "  <thead>\n",
       "    <tr style=\"text-align: right;\">\n",
       "      <th></th>\n",
       "      <th>age</th>\n",
       "      <th>sex</th>\n",
       "      <th>cp</th>\n",
       "      <th>trestbps</th>\n",
       "      <th>chol</th>\n",
       "      <th>fbs</th>\n",
       "      <th>restecg</th>\n",
       "      <th>thalach</th>\n",
       "      <th>exang</th>\n",
       "      <th>oldpeak</th>\n",
       "      <th>slope</th>\n",
       "      <th>ca</th>\n",
       "      <th>thal</th>\n",
       "      <th>target</th>\n",
       "    </tr>\n",
       "  </thead>\n",
       "  <tbody>\n",
       "    <tr>\n",
       "      <th>0</th>\n",
       "      <td>63</td>\n",
       "      <td>1</td>\n",
       "      <td>3</td>\n",
       "      <td>145</td>\n",
       "      <td>233</td>\n",
       "      <td>1</td>\n",
       "      <td>0</td>\n",
       "      <td>150</td>\n",
       "      <td>0</td>\n",
       "      <td>2.3</td>\n",
       "      <td>0</td>\n",
       "      <td>0</td>\n",
       "      <td>1</td>\n",
       "      <td>1</td>\n",
       "    </tr>\n",
       "    <tr>\n",
       "      <th>1</th>\n",
       "      <td>37</td>\n",
       "      <td>1</td>\n",
       "      <td>2</td>\n",
       "      <td>130</td>\n",
       "      <td>250</td>\n",
       "      <td>0</td>\n",
       "      <td>1</td>\n",
       "      <td>187</td>\n",
       "      <td>0</td>\n",
       "      <td>3.5</td>\n",
       "      <td>0</td>\n",
       "      <td>0</td>\n",
       "      <td>2</td>\n",
       "      <td>1</td>\n",
       "    </tr>\n",
       "    <tr>\n",
       "      <th>2</th>\n",
       "      <td>41</td>\n",
       "      <td>0</td>\n",
       "      <td>1</td>\n",
       "      <td>130</td>\n",
       "      <td>204</td>\n",
       "      <td>0</td>\n",
       "      <td>0</td>\n",
       "      <td>172</td>\n",
       "      <td>0</td>\n",
       "      <td>1.4</td>\n",
       "      <td>2</td>\n",
       "      <td>0</td>\n",
       "      <td>2</td>\n",
       "      <td>1</td>\n",
       "    </tr>\n",
       "    <tr>\n",
       "      <th>3</th>\n",
       "      <td>56</td>\n",
       "      <td>1</td>\n",
       "      <td>1</td>\n",
       "      <td>120</td>\n",
       "      <td>236</td>\n",
       "      <td>0</td>\n",
       "      <td>1</td>\n",
       "      <td>178</td>\n",
       "      <td>0</td>\n",
       "      <td>0.8</td>\n",
       "      <td>2</td>\n",
       "      <td>0</td>\n",
       "      <td>2</td>\n",
       "      <td>1</td>\n",
       "    </tr>\n",
       "    <tr>\n",
       "      <th>4</th>\n",
       "      <td>57</td>\n",
       "      <td>0</td>\n",
       "      <td>0</td>\n",
       "      <td>120</td>\n",
       "      <td>354</td>\n",
       "      <td>0</td>\n",
       "      <td>1</td>\n",
       "      <td>163</td>\n",
       "      <td>1</td>\n",
       "      <td>0.6</td>\n",
       "      <td>2</td>\n",
       "      <td>0</td>\n",
       "      <td>2</td>\n",
       "      <td>1</td>\n",
       "    </tr>\n",
       "    <tr>\n",
       "      <th>...</th>\n",
       "      <td>...</td>\n",
       "      <td>...</td>\n",
       "      <td>...</td>\n",
       "      <td>...</td>\n",
       "      <td>...</td>\n",
       "      <td>...</td>\n",
       "      <td>...</td>\n",
       "      <td>...</td>\n",
       "      <td>...</td>\n",
       "      <td>...</td>\n",
       "      <td>...</td>\n",
       "      <td>...</td>\n",
       "      <td>...</td>\n",
       "      <td>...</td>\n",
       "    </tr>\n",
       "    <tr>\n",
       "      <th>298</th>\n",
       "      <td>57</td>\n",
       "      <td>0</td>\n",
       "      <td>0</td>\n",
       "      <td>140</td>\n",
       "      <td>241</td>\n",
       "      <td>0</td>\n",
       "      <td>1</td>\n",
       "      <td>123</td>\n",
       "      <td>1</td>\n",
       "      <td>0.2</td>\n",
       "      <td>1</td>\n",
       "      <td>0</td>\n",
       "      <td>3</td>\n",
       "      <td>0</td>\n",
       "    </tr>\n",
       "    <tr>\n",
       "      <th>299</th>\n",
       "      <td>45</td>\n",
       "      <td>1</td>\n",
       "      <td>3</td>\n",
       "      <td>110</td>\n",
       "      <td>264</td>\n",
       "      <td>0</td>\n",
       "      <td>1</td>\n",
       "      <td>132</td>\n",
       "      <td>0</td>\n",
       "      <td>1.2</td>\n",
       "      <td>1</td>\n",
       "      <td>0</td>\n",
       "      <td>3</td>\n",
       "      <td>0</td>\n",
       "    </tr>\n",
       "    <tr>\n",
       "      <th>300</th>\n",
       "      <td>68</td>\n",
       "      <td>1</td>\n",
       "      <td>0</td>\n",
       "      <td>144</td>\n",
       "      <td>193</td>\n",
       "      <td>1</td>\n",
       "      <td>1</td>\n",
       "      <td>141</td>\n",
       "      <td>0</td>\n",
       "      <td>3.4</td>\n",
       "      <td>1</td>\n",
       "      <td>2</td>\n",
       "      <td>3</td>\n",
       "      <td>0</td>\n",
       "    </tr>\n",
       "    <tr>\n",
       "      <th>301</th>\n",
       "      <td>57</td>\n",
       "      <td>1</td>\n",
       "      <td>0</td>\n",
       "      <td>130</td>\n",
       "      <td>131</td>\n",
       "      <td>0</td>\n",
       "      <td>1</td>\n",
       "      <td>115</td>\n",
       "      <td>1</td>\n",
       "      <td>1.2</td>\n",
       "      <td>1</td>\n",
       "      <td>1</td>\n",
       "      <td>3</td>\n",
       "      <td>0</td>\n",
       "    </tr>\n",
       "    <tr>\n",
       "      <th>302</th>\n",
       "      <td>57</td>\n",
       "      <td>0</td>\n",
       "      <td>1</td>\n",
       "      <td>130</td>\n",
       "      <td>236</td>\n",
       "      <td>0</td>\n",
       "      <td>0</td>\n",
       "      <td>174</td>\n",
       "      <td>0</td>\n",
       "      <td>0.0</td>\n",
       "      <td>1</td>\n",
       "      <td>1</td>\n",
       "      <td>2</td>\n",
       "      <td>0</td>\n",
       "    </tr>\n",
       "  </tbody>\n",
       "</table>\n",
       "<p>303 rows × 14 columns</p>\n",
       "</div>"
      ],
      "text/plain": [
       "     age  sex  cp  trestbps  chol  fbs  restecg  thalach  exang  oldpeak  \\\n",
       "0     63    1   3       145   233    1        0      150      0      2.3   \n",
       "1     37    1   2       130   250    0        1      187      0      3.5   \n",
       "2     41    0   1       130   204    0        0      172      0      1.4   \n",
       "3     56    1   1       120   236    0        1      178      0      0.8   \n",
       "4     57    0   0       120   354    0        1      163      1      0.6   \n",
       "..   ...  ...  ..       ...   ...  ...      ...      ...    ...      ...   \n",
       "298   57    0   0       140   241    0        1      123      1      0.2   \n",
       "299   45    1   3       110   264    0        1      132      0      1.2   \n",
       "300   68    1   0       144   193    1        1      141      0      3.4   \n",
       "301   57    1   0       130   131    0        1      115      1      1.2   \n",
       "302   57    0   1       130   236    0        0      174      0      0.0   \n",
       "\n",
       "     slope  ca  thal  target  \n",
       "0        0   0     1       1  \n",
       "1        0   0     2       1  \n",
       "2        2   0     2       1  \n",
       "3        2   0     2       1  \n",
       "4        2   0     2       1  \n",
       "..     ...  ..   ...     ...  \n",
       "298      1   0     3       0  \n",
       "299      1   0     3       0  \n",
       "300      1   2     3       0  \n",
       "301      1   1     3       0  \n",
       "302      1   1     2       0  \n",
       "\n",
       "[303 rows x 14 columns]"
      ]
     },
     "execution_count": 2,
     "metadata": {},
     "output_type": "execute_result"
    }
   ],
   "source": [
    "df = pd.read_csv('heart.csv')\n",
    "df"
   ]
  },
  {
   "cell_type": "markdown",
   "id": "8516d5c2",
   "metadata": {},
   "source": [
    "# Domain Knowledge"
   ]
  },
  {
   "cell_type": "raw",
   "id": "9dfacdba",
   "metadata": {},
   "source": [
    "1) age\n",
    "\n",
    "2) sex:\n",
    "    1=male\n",
    "    0=female\n",
    "\n",
    "3) cp-->chest pain type (4 values):\n",
    "    Value 1: typical angina\n",
    "    Value 2: atypical angina\n",
    "    Value 3: non-anginal pain\n",
    "    Value 4: asymptomatic\n",
    "        \n",
    "4) resting blood pressure\n",
    "\n",
    "5) serum cholestoral in mg/dl\n",
    "\n",
    "6) fbs-->fasting blood sugar > 120 mg/dl:\n",
    "    (1 = true; 0 = false)\n",
    "\n",
    "7) resting electrocardiographic results (values 0,1,2):\n",
    "    Value 0: normal\n",
    "    Value 1: ST-T wave abnormality\n",
    "    Value 2: left ventricular hypertrophy\n",
    "        \n",
    "8) thalach-->maximum heart rate achieved\n",
    "\n",
    "9) exang: Exercise induced angina (1 = yes; 0 = no)\n",
    "\n",
    "10) oldpeak = ST depression induced by exercise relative to rest\n",
    "\n",
    "11) slope:  Peak exercise ST segment:\n",
    "    (0 = upsloping, 1 = flat, 2 = downsloping).\n",
    "\n",
    "12) ca : number of major vessels (0-3) colored by flourosopy\n",
    "\n",
    "13) thal: 0 = normal; 1 = fixed defect; 2 = reversable defect\n",
    "    1)alpha\n",
    "    2)beta\n",
    "    3)intermedia\n",
    "    \n",
    "target : 0= less chance of heart attack 1= more chance of heart attack"
   ]
  },
  {
   "cell_type": "markdown",
   "id": "ee57cc51",
   "metadata": {},
   "source": [
    "# Exploratorary Data Analysis"
   ]
  },
  {
   "cell_type": "code",
   "execution_count": 3,
   "id": "2e8dca11",
   "metadata": {},
   "outputs": [
    {
     "name": "stdout",
     "output_type": "stream",
     "text": [
      "<class 'pandas.core.frame.DataFrame'>\n",
      "RangeIndex: 303 entries, 0 to 302\n",
      "Data columns (total 14 columns):\n",
      " #   Column    Non-Null Count  Dtype  \n",
      "---  ------    --------------  -----  \n",
      " 0   age       303 non-null    int64  \n",
      " 1   sex       303 non-null    int64  \n",
      " 2   cp        303 non-null    int64  \n",
      " 3   trestbps  303 non-null    int64  \n",
      " 4   chol      303 non-null    int64  \n",
      " 5   fbs       303 non-null    int64  \n",
      " 6   restecg   303 non-null    int64  \n",
      " 7   thalach   303 non-null    int64  \n",
      " 8   exang     303 non-null    int64  \n",
      " 9   oldpeak   303 non-null    float64\n",
      " 10  slope     303 non-null    int64  \n",
      " 11  ca        303 non-null    int64  \n",
      " 12  thal      303 non-null    int64  \n",
      " 13  target    303 non-null    int64  \n",
      "dtypes: float64(1), int64(13)\n",
      "memory usage: 33.3 KB\n"
     ]
    }
   ],
   "source": [
    "df.info()"
   ]
  },
  {
   "cell_type": "code",
   "execution_count": 4,
   "id": "1af10a20",
   "metadata": {},
   "outputs": [
    {
     "data": {
      "text/plain": [
       "age         0\n",
       "sex         0\n",
       "cp          0\n",
       "trestbps    0\n",
       "chol        0\n",
       "fbs         0\n",
       "restecg     0\n",
       "thalach     0\n",
       "exang       0\n",
       "oldpeak     0\n",
       "slope       0\n",
       "ca          0\n",
       "thal        0\n",
       "target      0\n",
       "dtype: int64"
      ]
     },
     "execution_count": 4,
     "metadata": {},
     "output_type": "execute_result"
    }
   ],
   "source": [
    "df.isna().sum()"
   ]
  },
  {
   "cell_type": "markdown",
   "id": "53523561",
   "metadata": {},
   "source": [
    "### age"
   ]
  },
  {
   "cell_type": "code",
   "execution_count": 5,
   "id": "743aed01",
   "metadata": {},
   "outputs": [
    {
     "data": {
      "text/plain": [
       "0      63\n",
       "1      37\n",
       "2      41\n",
       "3      56\n",
       "4      57\n",
       "       ..\n",
       "298    57\n",
       "299    45\n",
       "300    68\n",
       "301    57\n",
       "302    57\n",
       "Name: age, Length: 303, dtype: int64"
      ]
     },
     "execution_count": 5,
     "metadata": {},
     "output_type": "execute_result"
    }
   ],
   "source": [
    "df['age']"
   ]
  },
  {
   "cell_type": "code",
   "execution_count": 6,
   "id": "e4840580",
   "metadata": {},
   "outputs": [
    {
     "data": {
      "text/plain": [
       "58    19\n",
       "57    17\n",
       "54    16\n",
       "59    14\n",
       "52    13\n",
       "51    12\n",
       "62    11\n",
       "60    11\n",
       "44    11\n",
       "56    11\n",
       "64    10\n",
       "41    10\n",
       "63     9\n",
       "67     9\n",
       "65     8\n",
       "43     8\n",
       "45     8\n",
       "55     8\n",
       "42     8\n",
       "61     8\n",
       "53     8\n",
       "46     7\n",
       "48     7\n",
       "66     7\n",
       "50     7\n",
       "49     5\n",
       "47     5\n",
       "70     4\n",
       "39     4\n",
       "35     4\n",
       "68     4\n",
       "38     3\n",
       "71     3\n",
       "40     3\n",
       "69     3\n",
       "34     2\n",
       "37     2\n",
       "29     1\n",
       "74     1\n",
       "76     1\n",
       "77     1\n",
       "Name: age, dtype: int64"
      ]
     },
     "execution_count": 6,
     "metadata": {},
     "output_type": "execute_result"
    }
   ],
   "source": [
    "df['age'].value_counts()"
   ]
  },
  {
   "cell_type": "code",
   "execution_count": 7,
   "id": "d6a3b044",
   "metadata": {},
   "outputs": [
    {
     "name": "stdout",
     "output_type": "stream",
     "text": [
      "<class 'pandas.core.frame.DataFrame'>\n",
      "RangeIndex: 303 entries, 0 to 302\n",
      "Data columns (total 14 columns):\n",
      " #   Column    Non-Null Count  Dtype  \n",
      "---  ------    --------------  -----  \n",
      " 0   age       303 non-null    int64  \n",
      " 1   sex       303 non-null    int64  \n",
      " 2   cp        303 non-null    int64  \n",
      " 3   trestbps  303 non-null    int64  \n",
      " 4   chol      303 non-null    int64  \n",
      " 5   fbs       303 non-null    int64  \n",
      " 6   restecg   303 non-null    int64  \n",
      " 7   thalach   303 non-null    int64  \n",
      " 8   exang     303 non-null    int64  \n",
      " 9   oldpeak   303 non-null    float64\n",
      " 10  slope     303 non-null    int64  \n",
      " 11  ca        303 non-null    int64  \n",
      " 12  thal      303 non-null    int64  \n",
      " 13  target    303 non-null    int64  \n",
      "dtypes: float64(1), int64(13)\n",
      "memory usage: 33.3 KB\n"
     ]
    }
   ],
   "source": [
    "df.info()"
   ]
  },
  {
   "cell_type": "markdown",
   "id": "8d964f3b",
   "metadata": {},
   "source": [
    "### sex"
   ]
  },
  {
   "cell_type": "code",
   "execution_count": 8,
   "id": "fcee7eb8",
   "metadata": {},
   "outputs": [
    {
     "data": {
      "text/plain": [
       "0      1\n",
       "1      1\n",
       "2      0\n",
       "3      1\n",
       "4      0\n",
       "      ..\n",
       "298    0\n",
       "299    1\n",
       "300    1\n",
       "301    1\n",
       "302    0\n",
       "Name: sex, Length: 303, dtype: int64"
      ]
     },
     "execution_count": 8,
     "metadata": {},
     "output_type": "execute_result"
    }
   ],
   "source": [
    "df['sex']"
   ]
  },
  {
   "cell_type": "code",
   "execution_count": 9,
   "id": "ceaf728c",
   "metadata": {},
   "outputs": [
    {
     "data": {
      "text/plain": [
       "1    207\n",
       "0     96\n",
       "Name: sex, dtype: int64"
      ]
     },
     "execution_count": 9,
     "metadata": {},
     "output_type": "execute_result"
    }
   ],
   "source": [
    "df['sex'].value_counts()"
   ]
  },
  {
   "cell_type": "code",
   "execution_count": 10,
   "id": "2c258b77",
   "metadata": {},
   "outputs": [
    {
     "data": {
      "text/plain": [
       "{1: 207, 0: 96}"
      ]
     },
     "execution_count": 10,
     "metadata": {},
     "output_type": "execute_result"
    }
   ],
   "source": [
    "df['sex'].value_counts().to_dict()"
   ]
  },
  {
   "cell_type": "code",
   "execution_count": 13,
   "id": "e178dca8",
   "metadata": {},
   "outputs": [
    {
     "data": {
      "text/plain": [
       "{'male': 1, 'female': 0}"
      ]
     },
     "execution_count": 13,
     "metadata": {},
     "output_type": "execute_result"
    }
   ],
   "source": [
    "age_dict = {'male':1, 'female':0}\n",
    "age_dict"
   ]
  },
  {
   "cell_type": "code",
   "execution_count": 12,
   "id": "aff41555",
   "metadata": {},
   "outputs": [
    {
     "name": "stdout",
     "output_type": "stream",
     "text": [
      "<class 'pandas.core.frame.DataFrame'>\n",
      "RangeIndex: 303 entries, 0 to 302\n",
      "Data columns (total 14 columns):\n",
      " #   Column    Non-Null Count  Dtype  \n",
      "---  ------    --------------  -----  \n",
      " 0   age       303 non-null    int64  \n",
      " 1   sex       303 non-null    int64  \n",
      " 2   cp        303 non-null    int64  \n",
      " 3   trestbps  303 non-null    int64  \n",
      " 4   chol      303 non-null    int64  \n",
      " 5   fbs       303 non-null    int64  \n",
      " 6   restecg   303 non-null    int64  \n",
      " 7   thalach   303 non-null    int64  \n",
      " 8   exang     303 non-null    int64  \n",
      " 9   oldpeak   303 non-null    float64\n",
      " 10  slope     303 non-null    int64  \n",
      " 11  ca        303 non-null    int64  \n",
      " 12  thal      303 non-null    int64  \n",
      " 13  target    303 non-null    int64  \n",
      "dtypes: float64(1), int64(13)\n",
      "memory usage: 33.3 KB\n"
     ]
    }
   ],
   "source": [
    "df.info()"
   ]
  },
  {
   "cell_type": "markdown",
   "id": "b6ef9aca",
   "metadata": {},
   "source": [
    "### cp"
   ]
  },
  {
   "cell_type": "code",
   "execution_count": 15,
   "id": "bc26617e",
   "metadata": {},
   "outputs": [
    {
     "data": {
      "text/plain": [
       "0      3\n",
       "1      2\n",
       "2      1\n",
       "3      1\n",
       "4      0\n",
       "      ..\n",
       "298    0\n",
       "299    3\n",
       "300    0\n",
       "301    0\n",
       "302    1\n",
       "Name: cp, Length: 303, dtype: int64"
      ]
     },
     "execution_count": 15,
     "metadata": {},
     "output_type": "execute_result"
    }
   ],
   "source": [
    "df['cp']"
   ]
  },
  {
   "cell_type": "code",
   "execution_count": 17,
   "id": "e4d4d234",
   "metadata": {},
   "outputs": [
    {
     "data": {
      "text/plain": [
       "0    143\n",
       "2     87\n",
       "1     50\n",
       "3     23\n",
       "Name: cp, dtype: int64"
      ]
     },
     "execution_count": 17,
     "metadata": {},
     "output_type": "execute_result"
    }
   ],
   "source": [
    "df['cp'].value_counts()"
   ]
  },
  {
   "cell_type": "code",
   "execution_count": 18,
   "id": "a964dbba",
   "metadata": {},
   "outputs": [
    {
     "data": {
      "text/plain": [
       "{0: 143, 2: 87, 1: 50, 3: 23}"
      ]
     },
     "execution_count": 18,
     "metadata": {},
     "output_type": "execute_result"
    }
   ],
   "source": [
    "df['cp'].value_counts().to_dict()"
   ]
  },
  {
   "cell_type": "code",
   "execution_count": 19,
   "id": "4a689c8a",
   "metadata": {},
   "outputs": [
    {
     "data": {
      "text/plain": [
       "{'typical angina': 0,\n",
       " 'atypical angina': 1,\n",
       " 'non-anginal pain': 2,\n",
       " 'asymptomatic': 3}"
      ]
     },
     "execution_count": 19,
     "metadata": {},
     "output_type": "execute_result"
    }
   ],
   "source": [
    "cp_dict = {'typical angina':0,'atypical angina':1,'non-anginal pain':2,'asymptomatic':3}\n",
    "cp_dict"
   ]
  },
  {
   "cell_type": "code",
   "execution_count": 20,
   "id": "9b1778e9",
   "metadata": {},
   "outputs": [
    {
     "name": "stdout",
     "output_type": "stream",
     "text": [
      "<class 'pandas.core.frame.DataFrame'>\n",
      "RangeIndex: 303 entries, 0 to 302\n",
      "Data columns (total 14 columns):\n",
      " #   Column    Non-Null Count  Dtype  \n",
      "---  ------    --------------  -----  \n",
      " 0   age       303 non-null    int64  \n",
      " 1   sex       303 non-null    int64  \n",
      " 2   cp        303 non-null    int64  \n",
      " 3   trestbps  303 non-null    int64  \n",
      " 4   chol      303 non-null    int64  \n",
      " 5   fbs       303 non-null    int64  \n",
      " 6   restecg   303 non-null    int64  \n",
      " 7   thalach   303 non-null    int64  \n",
      " 8   exang     303 non-null    int64  \n",
      " 9   oldpeak   303 non-null    float64\n",
      " 10  slope     303 non-null    int64  \n",
      " 11  ca        303 non-null    int64  \n",
      " 12  thal      303 non-null    int64  \n",
      " 13  target    303 non-null    int64  \n",
      "dtypes: float64(1), int64(13)\n",
      "memory usage: 33.3 KB\n"
     ]
    }
   ],
   "source": [
    "df.info()"
   ]
  },
  {
   "cell_type": "markdown",
   "id": "32315d14",
   "metadata": {},
   "source": [
    "### trestbps"
   ]
  },
  {
   "cell_type": "code",
   "execution_count": 21,
   "id": "fc543e8c",
   "metadata": {},
   "outputs": [
    {
     "data": {
      "text/plain": [
       "0      145\n",
       "1      130\n",
       "2      130\n",
       "3      120\n",
       "4      120\n",
       "      ... \n",
       "298    140\n",
       "299    110\n",
       "300    144\n",
       "301    130\n",
       "302    130\n",
       "Name: trestbps, Length: 303, dtype: int64"
      ]
     },
     "execution_count": 21,
     "metadata": {},
     "output_type": "execute_result"
    }
   ],
   "source": [
    "df['trestbps']"
   ]
  },
  {
   "cell_type": "code",
   "execution_count": 22,
   "id": "6a906b98",
   "metadata": {},
   "outputs": [
    {
     "data": {
      "text/plain": [
       "120    37\n",
       "130    36\n",
       "140    32\n",
       "110    19\n",
       "150    17\n",
       "138    13\n",
       "128    12\n",
       "160    11\n",
       "125    11\n",
       "112     9\n",
       "132     8\n",
       "118     7\n",
       "124     6\n",
       "135     6\n",
       "108     6\n",
       "152     5\n",
       "134     5\n",
       "145     5\n",
       "122     4\n",
       "170     4\n",
       "100     4\n",
       "105     3\n",
       "126     3\n",
       "115     3\n",
       "180     3\n",
       "136     3\n",
       "142     3\n",
       "102     2\n",
       "148     2\n",
       "178     2\n",
       "94      2\n",
       "144     2\n",
       "146     2\n",
       "200     1\n",
       "114     1\n",
       "154     1\n",
       "123     1\n",
       "192     1\n",
       "174     1\n",
       "165     1\n",
       "104     1\n",
       "117     1\n",
       "101     1\n",
       "156     1\n",
       "106     1\n",
       "155     1\n",
       "129     1\n",
       "172     1\n",
       "164     1\n",
       "Name: trestbps, dtype: int64"
      ]
     },
     "execution_count": 22,
     "metadata": {},
     "output_type": "execute_result"
    }
   ],
   "source": [
    "df['trestbps'].value_counts()"
   ]
  },
  {
   "cell_type": "code",
   "execution_count": 23,
   "id": "076622d7",
   "metadata": {},
   "outputs": [
    {
     "name": "stdout",
     "output_type": "stream",
     "text": [
      "<class 'pandas.core.frame.DataFrame'>\n",
      "RangeIndex: 303 entries, 0 to 302\n",
      "Data columns (total 14 columns):\n",
      " #   Column    Non-Null Count  Dtype  \n",
      "---  ------    --------------  -----  \n",
      " 0   age       303 non-null    int64  \n",
      " 1   sex       303 non-null    int64  \n",
      " 2   cp        303 non-null    int64  \n",
      " 3   trestbps  303 non-null    int64  \n",
      " 4   chol      303 non-null    int64  \n",
      " 5   fbs       303 non-null    int64  \n",
      " 6   restecg   303 non-null    int64  \n",
      " 7   thalach   303 non-null    int64  \n",
      " 8   exang     303 non-null    int64  \n",
      " 9   oldpeak   303 non-null    float64\n",
      " 10  slope     303 non-null    int64  \n",
      " 11  ca        303 non-null    int64  \n",
      " 12  thal      303 non-null    int64  \n",
      " 13  target    303 non-null    int64  \n",
      "dtypes: float64(1), int64(13)\n",
      "memory usage: 33.3 KB\n"
     ]
    }
   ],
   "source": [
    "df.info()"
   ]
  },
  {
   "cell_type": "markdown",
   "id": "a2138bf7",
   "metadata": {},
   "source": [
    "### chol"
   ]
  },
  {
   "cell_type": "code",
   "execution_count": 24,
   "id": "99cf19ba",
   "metadata": {},
   "outputs": [
    {
     "data": {
      "text/plain": [
       "0      233\n",
       "1      250\n",
       "2      204\n",
       "3      236\n",
       "4      354\n",
       "      ... \n",
       "298    241\n",
       "299    264\n",
       "300    193\n",
       "301    131\n",
       "302    236\n",
       "Name: chol, Length: 303, dtype: int64"
      ]
     },
     "execution_count": 24,
     "metadata": {},
     "output_type": "execute_result"
    }
   ],
   "source": [
    "df['chol']"
   ]
  },
  {
   "cell_type": "code",
   "execution_count": 25,
   "id": "48388752",
   "metadata": {},
   "outputs": [
    {
     "data": {
      "text/plain": [
       "204    6\n",
       "197    6\n",
       "234    6\n",
       "269    5\n",
       "254    5\n",
       "      ..\n",
       "284    1\n",
       "224    1\n",
       "167    1\n",
       "276    1\n",
       "131    1\n",
       "Name: chol, Length: 152, dtype: int64"
      ]
     },
     "execution_count": 25,
     "metadata": {},
     "output_type": "execute_result"
    }
   ],
   "source": [
    "df['chol'].value_counts()"
   ]
  },
  {
   "cell_type": "code",
   "execution_count": 26,
   "id": "825f5ef0",
   "metadata": {},
   "outputs": [
    {
     "name": "stdout",
     "output_type": "stream",
     "text": [
      "<class 'pandas.core.frame.DataFrame'>\n",
      "RangeIndex: 303 entries, 0 to 302\n",
      "Data columns (total 14 columns):\n",
      " #   Column    Non-Null Count  Dtype  \n",
      "---  ------    --------------  -----  \n",
      " 0   age       303 non-null    int64  \n",
      " 1   sex       303 non-null    int64  \n",
      " 2   cp        303 non-null    int64  \n",
      " 3   trestbps  303 non-null    int64  \n",
      " 4   chol      303 non-null    int64  \n",
      " 5   fbs       303 non-null    int64  \n",
      " 6   restecg   303 non-null    int64  \n",
      " 7   thalach   303 non-null    int64  \n",
      " 8   exang     303 non-null    int64  \n",
      " 9   oldpeak   303 non-null    float64\n",
      " 10  slope     303 non-null    int64  \n",
      " 11  ca        303 non-null    int64  \n",
      " 12  thal      303 non-null    int64  \n",
      " 13  target    303 non-null    int64  \n",
      "dtypes: float64(1), int64(13)\n",
      "memory usage: 33.3 KB\n"
     ]
    }
   ],
   "source": [
    "df.info()"
   ]
  },
  {
   "cell_type": "markdown",
   "id": "040a30b4",
   "metadata": {},
   "source": [
    "### fbs"
   ]
  },
  {
   "cell_type": "code",
   "execution_count": 27,
   "id": "7c812af7",
   "metadata": {},
   "outputs": [
    {
     "data": {
      "text/plain": [
       "0      1\n",
       "1      0\n",
       "2      0\n",
       "3      0\n",
       "4      0\n",
       "      ..\n",
       "298    0\n",
       "299    0\n",
       "300    1\n",
       "301    0\n",
       "302    0\n",
       "Name: fbs, Length: 303, dtype: int64"
      ]
     },
     "execution_count": 27,
     "metadata": {},
     "output_type": "execute_result"
    }
   ],
   "source": [
    "df['fbs']"
   ]
  },
  {
   "cell_type": "code",
   "execution_count": 28,
   "id": "4f1f3bb7",
   "metadata": {},
   "outputs": [
    {
     "data": {
      "text/plain": [
       "0    258\n",
       "1     45\n",
       "Name: fbs, dtype: int64"
      ]
     },
     "execution_count": 28,
     "metadata": {},
     "output_type": "execute_result"
    }
   ],
   "source": [
    "df['fbs'].value_counts()"
   ]
  },
  {
   "cell_type": "code",
   "execution_count": 29,
   "id": "d867ba27",
   "metadata": {},
   "outputs": [
    {
     "data": {
      "text/plain": [
       "{0: 258, 1: 45}"
      ]
     },
     "execution_count": 29,
     "metadata": {},
     "output_type": "execute_result"
    }
   ],
   "source": [
    "df['fbs'].value_counts().to_dict()"
   ]
  },
  {
   "cell_type": "code",
   "execution_count": 30,
   "id": "28f76bd5",
   "metadata": {},
   "outputs": [
    {
     "data": {
      "text/plain": [
       "{'lower': 0, 'higher': 1}"
      ]
     },
     "execution_count": 30,
     "metadata": {},
     "output_type": "execute_result"
    }
   ],
   "source": [
    "fbs_dict = {'lower':0, 'higher':1}\n",
    "fbs_dict"
   ]
  },
  {
   "cell_type": "code",
   "execution_count": 31,
   "id": "e9396cc2",
   "metadata": {},
   "outputs": [
    {
     "name": "stdout",
     "output_type": "stream",
     "text": [
      "<class 'pandas.core.frame.DataFrame'>\n",
      "RangeIndex: 303 entries, 0 to 302\n",
      "Data columns (total 14 columns):\n",
      " #   Column    Non-Null Count  Dtype  \n",
      "---  ------    --------------  -----  \n",
      " 0   age       303 non-null    int64  \n",
      " 1   sex       303 non-null    int64  \n",
      " 2   cp        303 non-null    int64  \n",
      " 3   trestbps  303 non-null    int64  \n",
      " 4   chol      303 non-null    int64  \n",
      " 5   fbs       303 non-null    int64  \n",
      " 6   restecg   303 non-null    int64  \n",
      " 7   thalach   303 non-null    int64  \n",
      " 8   exang     303 non-null    int64  \n",
      " 9   oldpeak   303 non-null    float64\n",
      " 10  slope     303 non-null    int64  \n",
      " 11  ca        303 non-null    int64  \n",
      " 12  thal      303 non-null    int64  \n",
      " 13  target    303 non-null    int64  \n",
      "dtypes: float64(1), int64(13)\n",
      "memory usage: 33.3 KB\n"
     ]
    }
   ],
   "source": [
    "df.info()"
   ]
  },
  {
   "cell_type": "markdown",
   "id": "54ca94b7",
   "metadata": {},
   "source": [
    "### restecg"
   ]
  },
  {
   "cell_type": "code",
   "execution_count": 32,
   "id": "3dfff40a",
   "metadata": {},
   "outputs": [
    {
     "data": {
      "text/plain": [
       "0      0\n",
       "1      1\n",
       "2      0\n",
       "3      1\n",
       "4      1\n",
       "      ..\n",
       "298    1\n",
       "299    1\n",
       "300    1\n",
       "301    1\n",
       "302    0\n",
       "Name: restecg, Length: 303, dtype: int64"
      ]
     },
     "execution_count": 32,
     "metadata": {},
     "output_type": "execute_result"
    }
   ],
   "source": [
    "df['restecg']"
   ]
  },
  {
   "cell_type": "code",
   "execution_count": 33,
   "id": "44769e6f",
   "metadata": {},
   "outputs": [
    {
     "data": {
      "text/plain": [
       "1    152\n",
       "0    147\n",
       "2      4\n",
       "Name: restecg, dtype: int64"
      ]
     },
     "execution_count": 33,
     "metadata": {},
     "output_type": "execute_result"
    }
   ],
   "source": [
    "df['restecg'].value_counts()"
   ]
  },
  {
   "cell_type": "code",
   "execution_count": 34,
   "id": "38823c13",
   "metadata": {},
   "outputs": [
    {
     "data": {
      "text/plain": [
       "{1: 152, 0: 147, 2: 4}"
      ]
     },
     "execution_count": 34,
     "metadata": {},
     "output_type": "execute_result"
    }
   ],
   "source": [
    "df['restecg'].value_counts().to_dict()\n"
   ]
  },
  {
   "cell_type": "code",
   "execution_count": 57,
   "id": "8841ffd7",
   "metadata": {},
   "outputs": [
    {
     "data": {
      "text/plain": [
       "{'abnormal': 0, 'normal': 1, 'hyper': 2}"
      ]
     },
     "execution_count": 57,
     "metadata": {},
     "output_type": "execute_result"
    }
   ],
   "source": [
    "restecg_dict = {'abnormal':0,'normal':1,'hyper':2}\n",
    "restecg_dict"
   ]
  },
  {
   "cell_type": "code",
   "execution_count": 36,
   "id": "6b690978",
   "metadata": {},
   "outputs": [
    {
     "name": "stdout",
     "output_type": "stream",
     "text": [
      "<class 'pandas.core.frame.DataFrame'>\n",
      "RangeIndex: 303 entries, 0 to 302\n",
      "Data columns (total 14 columns):\n",
      " #   Column    Non-Null Count  Dtype  \n",
      "---  ------    --------------  -----  \n",
      " 0   age       303 non-null    int64  \n",
      " 1   sex       303 non-null    int64  \n",
      " 2   cp        303 non-null    int64  \n",
      " 3   trestbps  303 non-null    int64  \n",
      " 4   chol      303 non-null    int64  \n",
      " 5   fbs       303 non-null    int64  \n",
      " 6   restecg   303 non-null    int64  \n",
      " 7   thalach   303 non-null    int64  \n",
      " 8   exang     303 non-null    int64  \n",
      " 9   oldpeak   303 non-null    float64\n",
      " 10  slope     303 non-null    int64  \n",
      " 11  ca        303 non-null    int64  \n",
      " 12  thal      303 non-null    int64  \n",
      " 13  target    303 non-null    int64  \n",
      "dtypes: float64(1), int64(13)\n",
      "memory usage: 33.3 KB\n"
     ]
    }
   ],
   "source": [
    "df.info()"
   ]
  },
  {
   "cell_type": "markdown",
   "id": "9949ec92",
   "metadata": {},
   "source": [
    "### thalach"
   ]
  },
  {
   "cell_type": "code",
   "execution_count": 37,
   "id": "f3bc47c0",
   "metadata": {},
   "outputs": [
    {
     "data": {
      "text/plain": [
       "0      150\n",
       "1      187\n",
       "2      172\n",
       "3      178\n",
       "4      163\n",
       "      ... \n",
       "298    123\n",
       "299    132\n",
       "300    141\n",
       "301    115\n",
       "302    174\n",
       "Name: thalach, Length: 303, dtype: int64"
      ]
     },
     "execution_count": 37,
     "metadata": {},
     "output_type": "execute_result"
    }
   ],
   "source": [
    "df['thalach']"
   ]
  },
  {
   "cell_type": "code",
   "execution_count": 38,
   "id": "4e3b700e",
   "metadata": {},
   "outputs": [
    {
     "data": {
      "text/plain": [
       "162    11\n",
       "160     9\n",
       "163     9\n",
       "152     8\n",
       "173     8\n",
       "       ..\n",
       "202     1\n",
       "184     1\n",
       "121     1\n",
       "192     1\n",
       "90      1\n",
       "Name: thalach, Length: 91, dtype: int64"
      ]
     },
     "execution_count": 38,
     "metadata": {},
     "output_type": "execute_result"
    }
   ],
   "source": [
    "df['thalach'].value_counts()"
   ]
  },
  {
   "cell_type": "code",
   "execution_count": 39,
   "id": "9079d9b9",
   "metadata": {},
   "outputs": [
    {
     "name": "stdout",
     "output_type": "stream",
     "text": [
      "<class 'pandas.core.frame.DataFrame'>\n",
      "RangeIndex: 303 entries, 0 to 302\n",
      "Data columns (total 14 columns):\n",
      " #   Column    Non-Null Count  Dtype  \n",
      "---  ------    --------------  -----  \n",
      " 0   age       303 non-null    int64  \n",
      " 1   sex       303 non-null    int64  \n",
      " 2   cp        303 non-null    int64  \n",
      " 3   trestbps  303 non-null    int64  \n",
      " 4   chol      303 non-null    int64  \n",
      " 5   fbs       303 non-null    int64  \n",
      " 6   restecg   303 non-null    int64  \n",
      " 7   thalach   303 non-null    int64  \n",
      " 8   exang     303 non-null    int64  \n",
      " 9   oldpeak   303 non-null    float64\n",
      " 10  slope     303 non-null    int64  \n",
      " 11  ca        303 non-null    int64  \n",
      " 12  thal      303 non-null    int64  \n",
      " 13  target    303 non-null    int64  \n",
      "dtypes: float64(1), int64(13)\n",
      "memory usage: 33.3 KB\n"
     ]
    }
   ],
   "source": [
    "df.info()"
   ]
  },
  {
   "cell_type": "markdown",
   "id": "f4df3007",
   "metadata": {},
   "source": [
    "### exang"
   ]
  },
  {
   "cell_type": "code",
   "execution_count": 40,
   "id": "ab11601f",
   "metadata": {},
   "outputs": [
    {
     "data": {
      "text/plain": [
       "0      0\n",
       "1      0\n",
       "2      0\n",
       "3      0\n",
       "4      1\n",
       "      ..\n",
       "298    1\n",
       "299    0\n",
       "300    0\n",
       "301    1\n",
       "302    0\n",
       "Name: exang, Length: 303, dtype: int64"
      ]
     },
     "execution_count": 40,
     "metadata": {},
     "output_type": "execute_result"
    }
   ],
   "source": [
    "df['exang']"
   ]
  },
  {
   "cell_type": "code",
   "execution_count": 41,
   "id": "421ec8ec",
   "metadata": {},
   "outputs": [
    {
     "data": {
      "text/plain": [
       "0    204\n",
       "1     99\n",
       "Name: exang, dtype: int64"
      ]
     },
     "execution_count": 41,
     "metadata": {},
     "output_type": "execute_result"
    }
   ],
   "source": [
    "df['exang'].value_counts()"
   ]
  },
  {
   "cell_type": "code",
   "execution_count": 42,
   "id": "a9a1a253",
   "metadata": {},
   "outputs": [
    {
     "data": {
      "text/plain": [
       "{0: 204, 1: 99}"
      ]
     },
     "execution_count": 42,
     "metadata": {},
     "output_type": "execute_result"
    }
   ],
   "source": [
    "df['exang'].value_counts().to_dict()"
   ]
  },
  {
   "cell_type": "code",
   "execution_count": 43,
   "id": "5f4f25d6",
   "metadata": {},
   "outputs": [
    {
     "data": {
      "text/plain": [
       "{'no': 0, 'yes': 1}"
      ]
     },
     "execution_count": 43,
     "metadata": {},
     "output_type": "execute_result"
    }
   ],
   "source": [
    "exang_dict = {'no':0,'yes':1}\n",
    "exang_dict"
   ]
  },
  {
   "cell_type": "code",
   "execution_count": 44,
   "id": "9fccbb5a",
   "metadata": {},
   "outputs": [
    {
     "name": "stdout",
     "output_type": "stream",
     "text": [
      "<class 'pandas.core.frame.DataFrame'>\n",
      "RangeIndex: 303 entries, 0 to 302\n",
      "Data columns (total 14 columns):\n",
      " #   Column    Non-Null Count  Dtype  \n",
      "---  ------    --------------  -----  \n",
      " 0   age       303 non-null    int64  \n",
      " 1   sex       303 non-null    int64  \n",
      " 2   cp        303 non-null    int64  \n",
      " 3   trestbps  303 non-null    int64  \n",
      " 4   chol      303 non-null    int64  \n",
      " 5   fbs       303 non-null    int64  \n",
      " 6   restecg   303 non-null    int64  \n",
      " 7   thalach   303 non-null    int64  \n",
      " 8   exang     303 non-null    int64  \n",
      " 9   oldpeak   303 non-null    float64\n",
      " 10  slope     303 non-null    int64  \n",
      " 11  ca        303 non-null    int64  \n",
      " 12  thal      303 non-null    int64  \n",
      " 13  target    303 non-null    int64  \n",
      "dtypes: float64(1), int64(13)\n",
      "memory usage: 33.3 KB\n"
     ]
    }
   ],
   "source": [
    "df.info()"
   ]
  },
  {
   "cell_type": "markdown",
   "id": "33859ba9",
   "metadata": {},
   "source": [
    "### oldpeak"
   ]
  },
  {
   "cell_type": "code",
   "execution_count": 45,
   "id": "b5f1dc65",
   "metadata": {},
   "outputs": [
    {
     "data": {
      "text/plain": [
       "0      2.3\n",
       "1      3.5\n",
       "2      1.4\n",
       "3      0.8\n",
       "4      0.6\n",
       "      ... \n",
       "298    0.2\n",
       "299    1.2\n",
       "300    3.4\n",
       "301    1.2\n",
       "302    0.0\n",
       "Name: oldpeak, Length: 303, dtype: float64"
      ]
     },
     "execution_count": 45,
     "metadata": {},
     "output_type": "execute_result"
    }
   ],
   "source": [
    "df['oldpeak']"
   ]
  },
  {
   "cell_type": "code",
   "execution_count": 46,
   "id": "1d61a452",
   "metadata": {},
   "outputs": [
    {
     "data": {
      "text/plain": [
       "0.0    99\n",
       "1.2    17\n",
       "1.0    14\n",
       "0.6    14\n",
       "1.4    13\n",
       "0.8    13\n",
       "0.2    12\n",
       "1.6    11\n",
       "1.8    10\n",
       "0.4     9\n",
       "2.0     9\n",
       "0.1     7\n",
       "2.8     6\n",
       "2.6     6\n",
       "1.5     5\n",
       "3.0     5\n",
       "1.9     5\n",
       "0.5     5\n",
       "3.6     4\n",
       "2.2     4\n",
       "2.4     3\n",
       "0.9     3\n",
       "3.4     3\n",
       "4.0     3\n",
       "0.3     3\n",
       "2.3     2\n",
       "3.2     2\n",
       "2.5     2\n",
       "4.2     2\n",
       "1.1     2\n",
       "3.1     1\n",
       "0.7     1\n",
       "3.5     1\n",
       "6.2     1\n",
       "1.3     1\n",
       "5.6     1\n",
       "2.9     1\n",
       "2.1     1\n",
       "3.8     1\n",
       "4.4     1\n",
       "Name: oldpeak, dtype: int64"
      ]
     },
     "execution_count": 46,
     "metadata": {},
     "output_type": "execute_result"
    }
   ],
   "source": [
    "df['oldpeak'].value_counts()"
   ]
  },
  {
   "cell_type": "code",
   "execution_count": 47,
   "id": "e79af06d",
   "metadata": {},
   "outputs": [
    {
     "name": "stdout",
     "output_type": "stream",
     "text": [
      "<class 'pandas.core.frame.DataFrame'>\n",
      "RangeIndex: 303 entries, 0 to 302\n",
      "Data columns (total 14 columns):\n",
      " #   Column    Non-Null Count  Dtype  \n",
      "---  ------    --------------  -----  \n",
      " 0   age       303 non-null    int64  \n",
      " 1   sex       303 non-null    int64  \n",
      " 2   cp        303 non-null    int64  \n",
      " 3   trestbps  303 non-null    int64  \n",
      " 4   chol      303 non-null    int64  \n",
      " 5   fbs       303 non-null    int64  \n",
      " 6   restecg   303 non-null    int64  \n",
      " 7   thalach   303 non-null    int64  \n",
      " 8   exang     303 non-null    int64  \n",
      " 9   oldpeak   303 non-null    float64\n",
      " 10  slope     303 non-null    int64  \n",
      " 11  ca        303 non-null    int64  \n",
      " 12  thal      303 non-null    int64  \n",
      " 13  target    303 non-null    int64  \n",
      "dtypes: float64(1), int64(13)\n",
      "memory usage: 33.3 KB\n"
     ]
    }
   ],
   "source": [
    "df.info()"
   ]
  },
  {
   "cell_type": "markdown",
   "id": "e0f99cf2",
   "metadata": {},
   "source": [
    "### slope"
   ]
  },
  {
   "cell_type": "code",
   "execution_count": 48,
   "id": "1bcd7441",
   "metadata": {},
   "outputs": [
    {
     "data": {
      "text/plain": [
       "0      0\n",
       "1      0\n",
       "2      2\n",
       "3      2\n",
       "4      2\n",
       "      ..\n",
       "298    1\n",
       "299    1\n",
       "300    1\n",
       "301    1\n",
       "302    1\n",
       "Name: slope, Length: 303, dtype: int64"
      ]
     },
     "execution_count": 48,
     "metadata": {},
     "output_type": "execute_result"
    }
   ],
   "source": [
    "df['slope']"
   ]
  },
  {
   "cell_type": "code",
   "execution_count": 49,
   "id": "ca5a442d",
   "metadata": {},
   "outputs": [
    {
     "data": {
      "text/plain": [
       "2    142\n",
       "1    140\n",
       "0     21\n",
       "Name: slope, dtype: int64"
      ]
     },
     "execution_count": 49,
     "metadata": {},
     "output_type": "execute_result"
    }
   ],
   "source": [
    "df['slope'].value_counts()"
   ]
  },
  {
   "cell_type": "code",
   "execution_count": 50,
   "id": "ea716529",
   "metadata": {},
   "outputs": [
    {
     "data": {
      "text/plain": [
       "{2: 142, 1: 140, 0: 21}"
      ]
     },
     "execution_count": 50,
     "metadata": {},
     "output_type": "execute_result"
    }
   ],
   "source": [
    "df['slope'].value_counts().to_dict()"
   ]
  },
  {
   "cell_type": "code",
   "execution_count": 58,
   "id": "15c1b6f4",
   "metadata": {},
   "outputs": [
    {
     "data": {
      "text/plain": [
       "{'up': 0, 'flat': 1, 'down': 2}"
      ]
     },
     "execution_count": 58,
     "metadata": {},
     "output_type": "execute_result"
    }
   ],
   "source": [
    "slope_dict = {'up':0,'flat':1,'down':2}\n",
    "slope_dict"
   ]
  },
  {
   "cell_type": "code",
   "execution_count": 52,
   "id": "845309b4",
   "metadata": {},
   "outputs": [
    {
     "name": "stdout",
     "output_type": "stream",
     "text": [
      "<class 'pandas.core.frame.DataFrame'>\n",
      "RangeIndex: 303 entries, 0 to 302\n",
      "Data columns (total 14 columns):\n",
      " #   Column    Non-Null Count  Dtype  \n",
      "---  ------    --------------  -----  \n",
      " 0   age       303 non-null    int64  \n",
      " 1   sex       303 non-null    int64  \n",
      " 2   cp        303 non-null    int64  \n",
      " 3   trestbps  303 non-null    int64  \n",
      " 4   chol      303 non-null    int64  \n",
      " 5   fbs       303 non-null    int64  \n",
      " 6   restecg   303 non-null    int64  \n",
      " 7   thalach   303 non-null    int64  \n",
      " 8   exang     303 non-null    int64  \n",
      " 9   oldpeak   303 non-null    float64\n",
      " 10  slope     303 non-null    int64  \n",
      " 11  ca        303 non-null    int64  \n",
      " 12  thal      303 non-null    int64  \n",
      " 13  target    303 non-null    int64  \n",
      "dtypes: float64(1), int64(13)\n",
      "memory usage: 33.3 KB\n"
     ]
    }
   ],
   "source": [
    "df.info()"
   ]
  },
  {
   "cell_type": "markdown",
   "id": "b3ed5872",
   "metadata": {},
   "source": [
    "### ca"
   ]
  },
  {
   "cell_type": "code",
   "execution_count": 54,
   "id": "eae1b74a",
   "metadata": {},
   "outputs": [
    {
     "data": {
      "text/plain": [
       "0      0\n",
       "1      0\n",
       "2      0\n",
       "3      0\n",
       "4      0\n",
       "      ..\n",
       "298    0\n",
       "299    0\n",
       "300    2\n",
       "301    1\n",
       "302    1\n",
       "Name: ca, Length: 303, dtype: int64"
      ]
     },
     "execution_count": 54,
     "metadata": {},
     "output_type": "execute_result"
    }
   ],
   "source": [
    "df['ca']"
   ]
  },
  {
   "cell_type": "code",
   "execution_count": 55,
   "id": "1b02179f",
   "metadata": {},
   "outputs": [
    {
     "data": {
      "text/plain": [
       "0    175\n",
       "1     65\n",
       "2     38\n",
       "3     20\n",
       "4      5\n",
       "Name: ca, dtype: int64"
      ]
     },
     "execution_count": 55,
     "metadata": {},
     "output_type": "execute_result"
    }
   ],
   "source": [
    "df['ca'].value_counts()"
   ]
  },
  {
   "cell_type": "code",
   "execution_count": 59,
   "id": "a641e4bd",
   "metadata": {},
   "outputs": [
    {
     "data": {
      "text/plain": [
       "{0: 175, 1: 65, 2: 38, 3: 20, 4: 5}"
      ]
     },
     "execution_count": 59,
     "metadata": {},
     "output_type": "execute_result"
    }
   ],
   "source": [
    "df['ca'].value_counts().to_dict()"
   ]
  },
  {
   "cell_type": "code",
   "execution_count": 60,
   "id": "aaea4b54",
   "metadata": {},
   "outputs": [
    {
     "name": "stdout",
     "output_type": "stream",
     "text": [
      "<class 'pandas.core.frame.DataFrame'>\n",
      "RangeIndex: 303 entries, 0 to 302\n",
      "Data columns (total 14 columns):\n",
      " #   Column    Non-Null Count  Dtype  \n",
      "---  ------    --------------  -----  \n",
      " 0   age       303 non-null    int64  \n",
      " 1   sex       303 non-null    int64  \n",
      " 2   cp        303 non-null    int64  \n",
      " 3   trestbps  303 non-null    int64  \n",
      " 4   chol      303 non-null    int64  \n",
      " 5   fbs       303 non-null    int64  \n",
      " 6   restecg   303 non-null    int64  \n",
      " 7   thalach   303 non-null    int64  \n",
      " 8   exang     303 non-null    int64  \n",
      " 9   oldpeak   303 non-null    float64\n",
      " 10  slope     303 non-null    int64  \n",
      " 11  ca        303 non-null    int64  \n",
      " 12  thal      303 non-null    int64  \n",
      " 13  target    303 non-null    int64  \n",
      "dtypes: float64(1), int64(13)\n",
      "memory usage: 33.3 KB\n"
     ]
    }
   ],
   "source": [
    "df.info()"
   ]
  },
  {
   "cell_type": "markdown",
   "id": "0d90f1b1",
   "metadata": {},
   "source": [
    "### thal"
   ]
  },
  {
   "cell_type": "code",
   "execution_count": 61,
   "id": "4b9a1a32",
   "metadata": {},
   "outputs": [
    {
     "data": {
      "text/plain": [
       "0      1\n",
       "1      2\n",
       "2      2\n",
       "3      2\n",
       "4      2\n",
       "      ..\n",
       "298    3\n",
       "299    3\n",
       "300    3\n",
       "301    3\n",
       "302    2\n",
       "Name: thal, Length: 303, dtype: int64"
      ]
     },
     "execution_count": 61,
     "metadata": {},
     "output_type": "execute_result"
    }
   ],
   "source": [
    "df['thal']"
   ]
  },
  {
   "cell_type": "code",
   "execution_count": 62,
   "id": "9112919e",
   "metadata": {},
   "outputs": [
    {
     "data": {
      "text/plain": [
       "2    166\n",
       "3    117\n",
       "1     18\n",
       "0      2\n",
       "Name: thal, dtype: int64"
      ]
     },
     "execution_count": 62,
     "metadata": {},
     "output_type": "execute_result"
    }
   ],
   "source": [
    "df['thal'].value_counts()"
   ]
  },
  {
   "cell_type": "code",
   "execution_count": 63,
   "id": "282d2167",
   "metadata": {},
   "outputs": [
    {
     "data": {
      "text/plain": [
       "{2: 166, 3: 117, 1: 18, 0: 2}"
      ]
     },
     "execution_count": 63,
     "metadata": {},
     "output_type": "execute_result"
    }
   ],
   "source": [
    "df['thal'].value_counts().to_dict()"
   ]
  },
  {
   "cell_type": "code",
   "execution_count": 64,
   "id": "ccced84c",
   "metadata": {},
   "outputs": [
    {
     "data": {
      "text/plain": [
       "{'normal': 2, 'fixed defect': 1, 'reversable defect': 0}"
      ]
     },
     "execution_count": 64,
     "metadata": {},
     "output_type": "execute_result"
    }
   ],
   "source": [
    "thal_dict = {'normal':2,'fixed defect':1,'reversable defect':0}\n",
    "thal_dict"
   ]
  },
  {
   "cell_type": "code",
   "execution_count": 103,
   "id": "95cdd5df",
   "metadata": {},
   "outputs": [
    {
     "name": "stdout",
     "output_type": "stream",
     "text": [
      "<class 'pandas.core.frame.DataFrame'>\n",
      "RangeIndex: 303 entries, 0 to 302\n",
      "Data columns (total 14 columns):\n",
      " #   Column    Non-Null Count  Dtype  \n",
      "---  ------    --------------  -----  \n",
      " 0   age       303 non-null    int64  \n",
      " 1   sex       303 non-null    int64  \n",
      " 2   cp        303 non-null    int64  \n",
      " 3   trestbps  303 non-null    int64  \n",
      " 4   chol      303 non-null    int64  \n",
      " 5   fbs       303 non-null    int64  \n",
      " 6   restecg   303 non-null    int64  \n",
      " 7   thalach   303 non-null    float64\n",
      " 8   exang     303 non-null    int64  \n",
      " 9   oldpeak   303 non-null    float64\n",
      " 10  slope     303 non-null    int64  \n",
      " 11  ca        303 non-null    int64  \n",
      " 12  thal      303 non-null    int64  \n",
      " 13  target    303 non-null    int64  \n",
      "dtypes: float64(2), int64(12)\n",
      "memory usage: 33.3 KB\n"
     ]
    }
   ],
   "source": [
    "df.info()"
   ]
  },
  {
   "cell_type": "code",
   "execution_count": 4,
   "id": "b72a068e",
   "metadata": {},
   "outputs": [
    {
     "data": {
      "text/plain": [
       "0    500\n",
       "1    268\n",
       "Name: Outcome, dtype: int64"
      ]
     },
     "execution_count": 4,
     "metadata": {},
     "output_type": "execute_result"
    }
   ],
   "source": [
    "df['target'].value_counts()   # imbalance data  # bais data"
   ]
  },
  {
   "cell_type": "code",
   "execution_count": 131,
   "id": "44ad63b0",
   "metadata": {},
   "outputs": [],
   "source": [
    "df['target'].replace({0:'no',1:'yes'},inplace = True)"
   ]
  },
  {
   "cell_type": "markdown",
   "id": "d188992f",
   "metadata": {},
   "source": [
    "# Feature Engineering"
   ]
  },
  {
   "cell_type": "code",
   "execution_count": 106,
   "id": "8e3ca8a2",
   "metadata": {},
   "outputs": [
    {
     "data": {
      "text/plain": [
       "<AxesSubplot:>"
      ]
     },
     "execution_count": 106,
     "metadata": {},
     "output_type": "execute_result"
    },
    {
     "data": {
      "image/png": "[encoded data removed]",
      "text/plain": [
       "<Figure size 640x480 with 1 Axes>"
      ]
     },
     "metadata": {},
     "output_type": "display_data"
    }
   ],
   "source": [
    "df[['age']].boxplot()"
   ]
  },
  {
   "cell_type": "code",
   "execution_count": 107,
   "id": "d88fe0bf",
   "metadata": {},
   "outputs": [
    {
     "data": {
      "text/plain": [
       "<AxesSubplot:>"
      ]
     },
     "execution_count": 107,
     "metadata": {},
     "output_type": "execute_result"
    },
    {
     "data": {
      "image/png": "[encoded data removed]",
      "text/plain": [
       "<Figure size 640x480 with 1 Axes>"
      ]
     },
     "metadata": {},
     "output_type": "display_data"
    }
   ],
   "source": [
    "df[['sex']].boxplot()"
   ]
  },
  {
   "cell_type": "code",
   "execution_count": 108,
   "id": "09dea93c",
   "metadata": {},
   "outputs": [
    {
     "data": {
      "text/plain": [
       "<AxesSubplot:>"
      ]
     },
     "execution_count": 108,
     "metadata": {},
     "output_type": "execute_result"
    },
    {
     "data": {
      "image/png": "[encoded data removed]",
      "text/plain": [
       "<Figure size 640x480 with 1 Axes>"
      ]
     },
     "metadata": {},
     "output_type": "display_data"
    }
   ],
   "source": [
    "df[['cp']].boxplot()"
   ]
  },
  {
   "cell_type": "code",
   "execution_count": 109,
   "id": "b923ed9a",
   "metadata": {},
   "outputs": [
    {
     "data": {
      "text/plain": [
       "<AxesSubplot:>"
      ]
     },
     "execution_count": 109,
     "metadata": {},
     "output_type": "execute_result"
    },
    {
     "data": {
      "image/png": "[encoded data removed]",
      "text/plain": [
       "<Figure size 640x480 with 1 Axes>"
      ]
     },
     "metadata": {},
     "output_type": "display_data"
    }
   ],
   "source": [
    "df[['trestbps']].boxplot()"
   ]
  },
  {
   "cell_type": "code",
   "execution_count": 110,
   "id": "b074fc4f",
   "metadata": {},
   "outputs": [
    {
     "name": "stdout",
     "output_type": "stream",
     "text": [
      "q1--> 120.0\n",
      "q2--> 130.0\n",
      "q3--> 140.0\n",
      "upper_tail--> 170.0\n",
      "lower_tail--> 90.0\n",
      "mean--> 130.0924092409241\n",
      "130.0\n"
     ]
    },
    {
     "data": {
      "text/plain": [
       "<AxesSubplot:>"
      ]
     },
     "execution_count": 110,
     "metadata": {},
     "output_type": "execute_result"
    },
    {
     "data": {
      "image/png": "[encoded data removed]",
      "text/plain": [
       "<Figure size 640x480 with 1 Axes>"
      ]
     },
     "metadata": {},
     "output_type": "display_data"
    }
   ],
   "source": [
    "q1=df['trestbps'].quantile(0.25)\n",
    "q2=df['trestbps'].quantile(0.50)\n",
    "q3=df['trestbps'].quantile(0.75)\n",
    "\n",
    "iqr = q3-q1\n",
    "\n",
    "upper_tail=q3+1.5*iqr\n",
    "lower_tail=q1-1.5*iqr\n",
    "\n",
    "print('q1-->',q1)\n",
    "print('q2-->',q2)\n",
    "print('q3-->',q3)\n",
    "print('upper_tail-->',upper_tail)\n",
    "print('lower_tail-->',lower_tail)\n",
    "\n",
    "print(\"mean-->\",(df['trestbps'].mean()))\n",
    "\n",
    "df['trestbps'].median()\n",
    "\n",
    "size_df=df[['trestbps']].loc[(df['trestbps'] < upper_tail) & \n",
    "                                   (df['trestbps'] > lower_tail)].median()[0]\n",
    "print(size_df)  \n",
    "\n",
    "df.loc[(df['trestbps'] > upper_tail) |\n",
    "                (df['trestbps'] < lower_tail), 'trestbps'] = size_df\n",
    "\n",
    "\n",
    "df[['trestbps']].boxplot()"
   ]
  },
  {
   "cell_type": "code",
   "execution_count": 111,
   "id": "1e120f20",
   "metadata": {},
   "outputs": [
    {
     "data": {
      "text/plain": [
       "<AxesSubplot:>"
      ]
     },
     "execution_count": 111,
     "metadata": {},
     "output_type": "execute_result"
    },
    {
     "data": {
      "image/png": "[encoded data removed]",
      "text/plain": [
       "<Figure size 640x480 with 1 Axes>"
      ]
     },
     "metadata": {},
     "output_type": "display_data"
    }
   ],
   "source": [
    "df[['chol']].boxplot()"
   ]
  },
  {
   "cell_type": "code",
   "execution_count": 112,
   "id": "89b88f23",
   "metadata": {},
   "outputs": [
    {
     "name": "stdout",
     "output_type": "stream",
     "text": [
      "q1--> 211.0\n",
      "q2--> 240.0\n",
      "q3--> 272.0\n",
      "upper_tail--> 363.5\n",
      "lower_tail--> 119.5\n",
      "mean--> 242.993399339934\n",
      "240.0\n"
     ]
    },
    {
     "data": {
      "text/plain": [
       "<AxesSubplot:>"
      ]
     },
     "execution_count": 112,
     "metadata": {},
     "output_type": "execute_result"
    },
    {
     "data": {
      "image/png": "[encoded data removed]",
      "text/plain": [
       "<Figure size 640x480 with 1 Axes>"
      ]
     },
     "metadata": {},
     "output_type": "display_data"
    }
   ],
   "source": [
    "q1=df['chol'].quantile(0.25)\n",
    "q2=df['chol'].quantile(0.50)\n",
    "q3=df['chol'].quantile(0.75)\n",
    "\n",
    "iqr = q3-q1\n",
    "\n",
    "upper_tail=q3+1.5*iqr\n",
    "lower_tail=q1-1.5*iqr\n",
    "\n",
    "print('q1-->',q1)\n",
    "print('q2-->',q2)\n",
    "print('q3-->',q3)\n",
    "print('upper_tail-->',upper_tail)\n",
    "print('lower_tail-->',lower_tail)\n",
    "\n",
    "print(\"mean-->\",(df['chol'].mean()))\n",
    "\n",
    "df['chol'].median()\n",
    "\n",
    "size_df=df[['chol']].loc[(df['chol'] < upper_tail) & \n",
    "                                   (df['chol'] > lower_tail)].median()[0]\n",
    "print(size_df)  \n",
    "\n",
    "df.loc[(df['chol'] > upper_tail) |\n",
    "                (df['chol'] < lower_tail), 'chol'] = size_df\n",
    "\n",
    "\n",
    "df[['chol']].boxplot()"
   ]
  },
  {
   "cell_type": "code",
   "execution_count": 113,
   "id": "c06af917",
   "metadata": {},
   "outputs": [
    {
     "data": {
      "text/plain": [
       "<AxesSubplot:>"
      ]
     },
     "execution_count": 113,
     "metadata": {},
     "output_type": "execute_result"
    },
    {
     "data": {
      "image/png": "[encoded data removed]",
      "text/plain": [
       "<Figure size 640x480 with 1 Axes>"
      ]
     },
     "metadata": {},
     "output_type": "display_data"
    }
   ],
   "source": [
    "df[['fbs']].boxplot()"
   ]
  },
  {
   "cell_type": "code",
   "execution_count": 114,
   "id": "5261cb81",
   "metadata": {},
   "outputs": [
    {
     "data": {
      "text/plain": [
       "<AxesSubplot:>"
      ]
     },
     "execution_count": 114,
     "metadata": {},
     "output_type": "execute_result"
    },
    {
     "data": {
      "image/png": "[encoded data removed]",
      "text/plain": [
       "<Figure size 640x480 with 1 Axes>"
      ]
     },
     "metadata": {},
     "output_type": "display_data"
    }
   ],
   "source": [
    "df[['restecg']].boxplot()"
   ]
  },
  {
   "cell_type": "code",
   "execution_count": 115,
   "id": "2eb570c4",
   "metadata": {},
   "outputs": [
    {
     "data": {
      "text/plain": [
       "<AxesSubplot:>"
      ]
     },
     "execution_count": 115,
     "metadata": {},
     "output_type": "execute_result"
    },
    {
     "data": {
      "image/png": "[encoded data removed]",
      "text/plain": [
       "<Figure size 640x480 with 1 Axes>"
      ]
     },
     "metadata": {},
     "output_type": "display_data"
    }
   ],
   "source": [
    "df[['thalach']].boxplot()"
   ]
  },
  {
   "cell_type": "code",
   "execution_count": 116,
   "id": "f84e9011",
   "metadata": {},
   "outputs": [
    {
     "name": "stdout",
     "output_type": "stream",
     "text": [
      "q1--> 135.0\n",
      "q2--> 153.0\n",
      "q3--> 166.0\n",
      "upper_tail--> 212.5\n",
      "lower_tail--> 88.5\n",
      "mean--> 149.9191419141914\n",
      "153.0\n"
     ]
    },
    {
     "data": {
      "text/plain": [
       "<AxesSubplot:>"
      ]
     },
     "execution_count": 116,
     "metadata": {},
     "output_type": "execute_result"
    },
    {
     "data": {
      "image/png": "[encoded data removed]",
      "text/plain": [
       "<Figure size 640x480 with 1 Axes>"
      ]
     },
     "metadata": {},
     "output_type": "display_data"
    }
   ],
   "source": [
    "q1=df['thalach'].quantile(0.25)\n",
    "q2=df['thalach'].quantile(0.50)\n",
    "q3=df['thalach'].quantile(0.75)\n",
    "\n",
    "iqr = q3-q1\n",
    "\n",
    "upper_tail=q3+1.5*iqr\n",
    "lower_tail=q1-1.5*iqr\n",
    "\n",
    "print('q1-->',q1)\n",
    "print('q2-->',q2)\n",
    "print('q3-->',q3)\n",
    "print('upper_tail-->',upper_tail)\n",
    "print('lower_tail-->',lower_tail)\n",
    "\n",
    "print(\"mean-->\",(df['thalach'].mean()))\n",
    "\n",
    "df['thalach'].median()\n",
    "\n",
    "size_df=df[['thalach']].loc[(df['thalach'] < upper_tail) & \n",
    "                                   (df['thalach'] > lower_tail)].median()[0]\n",
    "print(size_df)  \n",
    "\n",
    "df.loc[(df['thalach'] > upper_tail) |\n",
    "                (df['thalach'] < lower_tail), 'thalach'] = lower_tail\n",
    "\n",
    "\n",
    "df[['thalach']].boxplot()"
   ]
  },
  {
   "cell_type": "code",
   "execution_count": 117,
   "id": "eea8c404",
   "metadata": {
    "scrolled": true
   },
   "outputs": [
    {
     "data": {
      "text/plain": [
       "<AxesSubplot:>"
      ]
     },
     "execution_count": 117,
     "metadata": {},
     "output_type": "execute_result"
    },
    {
     "data": {
      "image/png": "[encoded data removed]",
      "text/plain": [
       "<Figure size 640x480 with 1 Axes>"
      ]
     },
     "metadata": {},
     "output_type": "display_data"
    }
   ],
   "source": [
    "df[['exang']].boxplot()"
   ]
  },
  {
   "cell_type": "code",
   "execution_count": 118,
   "id": "d211ee48",
   "metadata": {},
   "outputs": [
    {
     "data": {
      "text/plain": [
       "<AxesSubplot:>"
      ]
     },
     "execution_count": 118,
     "metadata": {},
     "output_type": "execute_result"
    },
    {
     "data": {
      "image/png": "[encoded data removed]",
      "text/plain": [
       "<Figure size 640x480 with 1 Axes>"
      ]
     },
     "metadata": {},
     "output_type": "display_data"
    }
   ],
   "source": [
    "df[['oldpeak']].boxplot()"
   ]
  },
  {
   "cell_type": "code",
   "execution_count": 119,
   "id": "14fbd018",
   "metadata": {},
   "outputs": [
    {
     "name": "stdout",
     "output_type": "stream",
     "text": [
      "q1--> 0.0\n",
      "q2--> 0.6\n",
      "q3--> 1.6\n",
      "upper_tail--> 4.0\n",
      "lower_tail--> -2.4000000000000004\n",
      "mean--> 0.9683168316831683\n",
      "0.6\n"
     ]
    },
    {
     "data": {
      "text/plain": [
       "<AxesSubplot:>"
      ]
     },
     "execution_count": 119,
     "metadata": {},
     "output_type": "execute_result"
    },
    {
     "data": {
      "image/png": "[encoded data removed]",
      "text/plain": [
       "<Figure size 640x480 with 1 Axes>"
      ]
     },
     "metadata": {},
     "output_type": "display_data"
    }
   ],
   "source": [
    "q1=df['oldpeak'].quantile(0.25)\n",
    "q2=df['oldpeak'].quantile(0.50)\n",
    "q3=df['oldpeak'].quantile(0.75)\n",
    "\n",
    "iqr = q3-q1\n",
    "\n",
    "upper_tail=q3+1.5*iqr\n",
    "lower_tail=q1-1.5*iqr\n",
    "\n",
    "print('q1-->',q1)\n",
    "print('q2-->',q2)\n",
    "print('q3-->',q3)\n",
    "print('upper_tail-->',upper_tail)\n",
    "print('lower_tail-->',lower_tail)\n",
    "\n",
    "print(\"mean-->\",(df['oldpeak'].mean()))\n",
    "\n",
    "df['oldpeak'].median()\n",
    "\n",
    "size_df=df[['oldpeak']].loc[(df['oldpeak'] < upper_tail) & \n",
    "                                   (df['oldpeak'] > lower_tail)].median()[0]\n",
    "print(size_df)  \n",
    "\n",
    "df.loc[(df['oldpeak'] > upper_tail) |\n",
    "                (df['oldpeak'] < lower_tail), 'oldpeak'] = size_df\n",
    "\n",
    "\n",
    "df[['oldpeak']].boxplot()"
   ]
  },
  {
   "cell_type": "code",
   "execution_count": 120,
   "id": "2dfa79f7",
   "metadata": {},
   "outputs": [
    {
     "data": {
      "text/plain": [
       "<AxesSubplot:>"
      ]
     },
     "execution_count": 120,
     "metadata": {},
     "output_type": "execute_result"
    },
    {
     "data": {
      "image/png": "[encoded data removed]",
      "text/plain": [
       "<Figure size 640x480 with 1 Axes>"
      ]
     },
     "metadata": {},
     "output_type": "display_data"
    }
   ],
   "source": [
    "df[['slope']].boxplot()"
   ]
  },
  {
   "cell_type": "code",
   "execution_count": 121,
   "id": "8ff08f83",
   "metadata": {},
   "outputs": [
    {
     "data": {
      "text/plain": [
       "<AxesSubplot:>"
      ]
     },
     "execution_count": 121,
     "metadata": {},
     "output_type": "execute_result"
    },
    {
     "data": {
      "image/png": "[encoded data removed]",
      "text/plain": [
       "<Figure size 640x480 with 1 Axes>"
      ]
     },
     "metadata": {},
     "output_type": "display_data"
    }
   ],
   "source": [
    "df[['ca']].boxplot()"
   ]
  },
  {
   "cell_type": "code",
   "execution_count": 122,
   "id": "8f319d29",
   "metadata": {},
   "outputs": [
    {
     "name": "stdout",
     "output_type": "stream",
     "text": [
      "q1--> 0.0\n",
      "q2--> 0.0\n",
      "q3--> 1.0\n",
      "upper_tail--> 2.5\n",
      "lower_tail--> -1.5\n",
      "mean--> 0.46534653465346537\n",
      "0.0\n"
     ]
    },
    {
     "data": {
      "text/plain": [
       "<AxesSubplot:>"
      ]
     },
     "execution_count": 122,
     "metadata": {},
     "output_type": "execute_result"
    },
    {
     "data": {
      "image/png": "[encoded data removed]",
      "text/plain": [
       "<Figure size 640x480 with 1 Axes>"
      ]
     },
     "metadata": {},
     "output_type": "display_data"
    }
   ],
   "source": [
    "q1=df['ca'].quantile(0.25)\n",
    "q2=df['ca'].quantile(0.50)\n",
    "q3=df['ca'].quantile(0.75)\n",
    "\n",
    "iqr = q3-q1\n",
    "\n",
    "upper_tail=q3+1.5*iqr\n",
    "lower_tail=q1-1.5*iqr\n",
    "\n",
    "print('q1-->',q1)\n",
    "print('q2-->',q2)\n",
    "print('q3-->',q3)\n",
    "print('upper_tail-->',upper_tail)\n",
    "print('lower_tail-->',lower_tail)\n",
    "\n",
    "print(\"mean-->\",(df['ca'].mean()))\n",
    "\n",
    "df['ca'].median()\n",
    "\n",
    "size_df=df[['ca']].loc[(df['ca'] < upper_tail) & \n",
    "                                   (df['ca'] > lower_tail)].median()[0]\n",
    "print(size_df)  \n",
    "\n",
    "df.loc[(df['ca'] > upper_tail) |\n",
    "                (df['ca'] < lower_tail), 'ca'] = size_df\n",
    "\n",
    "\n",
    "df[['ca']].boxplot()"
   ]
  },
  {
   "cell_type": "code",
   "execution_count": 123,
   "id": "5c4a196c",
   "metadata": {},
   "outputs": [
    {
     "data": {
      "text/plain": [
       "<AxesSubplot:>"
      ]
     },
     "execution_count": 123,
     "metadata": {},
     "output_type": "execute_result"
    },
    {
     "data": {
      "image/png": "[encoded data removed]",
      "text/plain": [
       "<Figure size 640x480 with 1 Axes>"
      ]
     },
     "metadata": {},
     "output_type": "display_data"
    }
   ],
   "source": [
    "df[['thal']].boxplot()"
   ]
  },
  {
   "cell_type": "code",
   "execution_count": 124,
   "id": "4130918c",
   "metadata": {},
   "outputs": [
    {
     "name": "stdout",
     "output_type": "stream",
     "text": [
      "q1--> 2.0\n",
      "q2--> 2.0\n",
      "q3--> 3.0\n",
      "upper_tail--> 4.5\n",
      "lower_tail--> 0.5\n",
      "mean--> 2.3267326732673266\n",
      "2.0\n"
     ]
    },
    {
     "data": {
      "text/plain": [
       "<AxesSubplot:>"
      ]
     },
     "execution_count": 124,
     "metadata": {},
     "output_type": "execute_result"
    },
    {
     "data": {
      "image/png": "[encoded data removed]",
      "text/plain": [
       "<Figure size 640x480 with 1 Axes>"
      ]
     },
     "metadata": {},
     "output_type": "display_data"
    }
   ],
   "source": [
    "q1=df['thal'].quantile(0.25)\n",
    "q2=df['thal'].quantile(0.50)\n",
    "q3=df['thal'].quantile(0.75)\n",
    "\n",
    "iqr = q3-q1\n",
    "\n",
    "upper_tail=q3+1.5*iqr\n",
    "lower_tail=q1-1.5*iqr\n",
    "\n",
    "print('q1-->',q1)\n",
    "print('q2-->',q2)\n",
    "print('q3-->',q3)\n",
    "print('upper_tail-->',upper_tail)\n",
    "print('lower_tail-->',lower_tail)\n",
    "\n",
    "print(\"mean-->\",(df['thal'].mean()))\n",
    "\n",
    "df['thal'].median()\n",
    "\n",
    "size_df=df[['thal']].loc[(df['thal'] < upper_tail) & \n",
    "                                   (df['thal'] > lower_tail)].median()[0]\n",
    "print(size_df)  \n",
    "\n",
    "df.loc[(df['thal'] > upper_tail) |\n",
    "                (df['thal'] < lower_tail), 'thal'] = size_df\n",
    "\n",
    "\n",
    "df[['thal']].boxplot()"
   ]
  },
  {
   "cell_type": "markdown",
   "id": "7d8967f9",
   "metadata": {},
   "source": [
    "# Feature Selection"
   ]
  },
  {
   "cell_type": "code",
   "execution_count": 125,
   "id": "1d67d7bc",
   "metadata": {},
   "outputs": [
    {
     "data": {
      "text/html": [
       "<div>\n",
       "<style scoped>\n",
       "    .dataframe tbody tr th:only-of-type {\n",
       "        vertical-align: middle;\n",
       "    }\n",
       "\n",
       "    .dataframe tbody tr th {\n",
       "        vertical-align: top;\n",
       "    }\n",
       "\n",
       "    .dataframe thead th {\n",
       "        text-align: right;\n",
       "    }\n",
       "</style>\n",
       "<table border=\"1\" class=\"dataframe\">\n",
       "  <thead>\n",
       "    <tr style=\"text-align: right;\">\n",
       "      <th></th>\n",
       "      <th>age</th>\n",
       "      <th>sex</th>\n",
       "      <th>cp</th>\n",
       "      <th>trestbps</th>\n",
       "      <th>chol</th>\n",
       "      <th>fbs</th>\n",
       "      <th>restecg</th>\n",
       "      <th>thalach</th>\n",
       "      <th>exang</th>\n",
       "      <th>oldpeak</th>\n",
       "      <th>slope</th>\n",
       "      <th>ca</th>\n",
       "      <th>thal</th>\n",
       "      <th>target</th>\n",
       "    </tr>\n",
       "  </thead>\n",
       "  <tbody>\n",
       "    <tr>\n",
       "      <th>age</th>\n",
       "      <td>1.000000</td>\n",
       "      <td>-0.098447</td>\n",
       "      <td>-0.068653</td>\n",
       "      <td>0.271469</td>\n",
       "      <td>0.175342</td>\n",
       "      <td>0.121308</td>\n",
       "      <td>-0.116211</td>\n",
       "      <td>-0.389786</td>\n",
       "      <td>0.096801</td>\n",
       "      <td>0.211533</td>\n",
       "      <td>-0.168814</td>\n",
       "      <td>0.316359</td>\n",
       "      <td>0.066745</td>\n",
       "      <td>-0.225439</td>\n",
       "    </tr>\n",
       "    <tr>\n",
       "      <th>sex</th>\n",
       "      <td>-0.098447</td>\n",
       "      <td>1.000000</td>\n",
       "      <td>-0.049353</td>\n",
       "      <td>-0.011801</td>\n",
       "      <td>-0.121806</td>\n",
       "      <td>0.045032</td>\n",
       "      <td>-0.058196</td>\n",
       "      <td>-0.036642</td>\n",
       "      <td>0.141664</td>\n",
       "      <td>0.098601</td>\n",
       "      <td>-0.030711</td>\n",
       "      <td>0.036865</td>\n",
       "      <td>0.211652</td>\n",
       "      <td>-0.280937</td>\n",
       "    </tr>\n",
       "    <tr>\n",
       "      <th>cp</th>\n",
       "      <td>-0.068653</td>\n",
       "      <td>-0.049353</td>\n",
       "      <td>1.000000</td>\n",
       "      <td>0.067629</td>\n",
       "      <td>-0.092265</td>\n",
       "      <td>0.094444</td>\n",
       "      <td>0.044421</td>\n",
       "      <td>0.290380</td>\n",
       "      <td>-0.394280</td>\n",
       "      <td>-0.135233</td>\n",
       "      <td>0.119717</td>\n",
       "      <td>-0.187366</td>\n",
       "      <td>-0.169125</td>\n",
       "      <td>0.433798</td>\n",
       "    </tr>\n",
       "    <tr>\n",
       "      <th>trestbps</th>\n",
       "      <td>0.271469</td>\n",
       "      <td>-0.011801</td>\n",
       "      <td>0.067629</td>\n",
       "      <td>1.000000</td>\n",
       "      <td>0.090445</td>\n",
       "      <td>0.119097</td>\n",
       "      <td>-0.148485</td>\n",
       "      <td>-0.072843</td>\n",
       "      <td>0.003658</td>\n",
       "      <td>0.142574</td>\n",
       "      <td>-0.087785</td>\n",
       "      <td>0.030592</td>\n",
       "      <td>0.007076</td>\n",
       "      <td>-0.118564</td>\n",
       "    </tr>\n",
       "    <tr>\n",
       "      <th>chol</th>\n",
       "      <td>0.175342</td>\n",
       "      <td>-0.121806</td>\n",
       "      <td>-0.092265</td>\n",
       "      <td>0.090445</td>\n",
       "      <td>1.000000</td>\n",
       "      <td>0.009208</td>\n",
       "      <td>-0.101369</td>\n",
       "      <td>-0.035011</td>\n",
       "      <td>0.102073</td>\n",
       "      <td>0.012005</td>\n",
       "      <td>0.021603</td>\n",
       "      <td>0.072046</td>\n",
       "      <td>0.059137</td>\n",
       "      <td>-0.115910</td>\n",
       "    </tr>\n",
       "    <tr>\n",
       "      <th>fbs</th>\n",
       "      <td>0.121308</td>\n",
       "      <td>0.045032</td>\n",
       "      <td>0.094444</td>\n",
       "      <td>0.119097</td>\n",
       "      <td>0.009208</td>\n",
       "      <td>1.000000</td>\n",
       "      <td>-0.084189</td>\n",
       "      <td>-0.013815</td>\n",
       "      <td>0.025665</td>\n",
       "      <td>0.035026</td>\n",
       "      <td>-0.059894</td>\n",
       "      <td>0.105819</td>\n",
       "      <td>-0.011209</td>\n",
       "      <td>-0.028046</td>\n",
       "    </tr>\n",
       "    <tr>\n",
       "      <th>restecg</th>\n",
       "      <td>-0.116211</td>\n",
       "      <td>-0.058196</td>\n",
       "      <td>0.044421</td>\n",
       "      <td>-0.148485</td>\n",
       "      <td>-0.101369</td>\n",
       "      <td>-0.084189</td>\n",
       "      <td>1.000000</td>\n",
       "      <td>0.055943</td>\n",
       "      <td>-0.070733</td>\n",
       "      <td>-0.094463</td>\n",
       "      <td>0.093045</td>\n",
       "      <td>-0.084094</td>\n",
       "      <td>-0.013795</td>\n",
       "      <td>0.137230</td>\n",
       "    </tr>\n",
       "    <tr>\n",
       "      <th>thalach</th>\n",
       "      <td>-0.389786</td>\n",
       "      <td>-0.036642</td>\n",
       "      <td>0.290380</td>\n",
       "      <td>-0.072843</td>\n",
       "      <td>-0.035011</td>\n",
       "      <td>-0.013815</td>\n",
       "      <td>0.055943</td>\n",
       "      <td>1.000000</td>\n",
       "      <td>-0.394829</td>\n",
       "      <td>-0.338279</td>\n",
       "      <td>0.386771</td>\n",
       "      <td>-0.178150</td>\n",
       "      <td>-0.124350</td>\n",
       "      <td>0.417040</td>\n",
       "    </tr>\n",
       "    <tr>\n",
       "      <th>exang</th>\n",
       "      <td>0.096801</td>\n",
       "      <td>0.141664</td>\n",
       "      <td>-0.394280</td>\n",
       "      <td>0.003658</td>\n",
       "      <td>0.102073</td>\n",
       "      <td>0.025665</td>\n",
       "      <td>-0.070733</td>\n",
       "      <td>-0.394829</td>\n",
       "      <td>1.000000</td>\n",
       "      <td>0.310747</td>\n",
       "      <td>-0.257748</td>\n",
       "      <td>0.178502</td>\n",
       "      <td>0.225508</td>\n",
       "      <td>-0.436757</td>\n",
       "    </tr>\n",
       "    <tr>\n",
       "      <th>oldpeak</th>\n",
       "      <td>0.211533</td>\n",
       "      <td>0.098601</td>\n",
       "      <td>-0.135233</td>\n",
       "      <td>0.142574</td>\n",
       "      <td>0.012005</td>\n",
       "      <td>0.035026</td>\n",
       "      <td>-0.094463</td>\n",
       "      <td>-0.338279</td>\n",
       "      <td>0.310747</td>\n",
       "      <td>1.000000</td>\n",
       "      <td>-0.506265</td>\n",
       "      <td>0.265581</td>\n",
       "      <td>0.196434</td>\n",
       "      <td>-0.427945</td>\n",
       "    </tr>\n",
       "    <tr>\n",
       "      <th>slope</th>\n",
       "      <td>-0.168814</td>\n",
       "      <td>-0.030711</td>\n",
       "      <td>0.119717</td>\n",
       "      <td>-0.087785</td>\n",
       "      <td>0.021603</td>\n",
       "      <td>-0.059894</td>\n",
       "      <td>0.093045</td>\n",
       "      <td>0.386771</td>\n",
       "      <td>-0.257748</td>\n",
       "      <td>-0.506265</td>\n",
       "      <td>1.000000</td>\n",
       "      <td>-0.032687</td>\n",
       "      <td>-0.106310</td>\n",
       "      <td>0.345877</td>\n",
       "    </tr>\n",
       "    <tr>\n",
       "      <th>ca</th>\n",
       "      <td>0.316359</td>\n",
       "      <td>0.036865</td>\n",
       "      <td>-0.187366</td>\n",
       "      <td>0.030592</td>\n",
       "      <td>0.072046</td>\n",
       "      <td>0.105819</td>\n",
       "      <td>-0.084094</td>\n",
       "      <td>-0.178150</td>\n",
       "      <td>0.178502</td>\n",
       "      <td>0.265581</td>\n",
       "      <td>-0.032687</td>\n",
       "      <td>1.000000</td>\n",
       "      <td>0.111749</td>\n",
       "      <td>-0.391731</td>\n",
       "    </tr>\n",
       "    <tr>\n",
       "      <th>thal</th>\n",
       "      <td>0.066745</td>\n",
       "      <td>0.211652</td>\n",
       "      <td>-0.169125</td>\n",
       "      <td>0.007076</td>\n",
       "      <td>0.059137</td>\n",
       "      <td>-0.011209</td>\n",
       "      <td>-0.013795</td>\n",
       "      <td>-0.124350</td>\n",
       "      <td>0.225508</td>\n",
       "      <td>0.196434</td>\n",
       "      <td>-0.106310</td>\n",
       "      <td>0.111749</td>\n",
       "      <td>1.000000</td>\n",
       "      <td>-0.363322</td>\n",
       "    </tr>\n",
       "    <tr>\n",
       "      <th>target</th>\n",
       "      <td>-0.225439</td>\n",
       "      <td>-0.280937</td>\n",
       "      <td>0.433798</td>\n",
       "      <td>-0.118564</td>\n",
       "      <td>-0.115910</td>\n",
       "      <td>-0.028046</td>\n",
       "      <td>0.137230</td>\n",
       "      <td>0.417040</td>\n",
       "      <td>-0.436757</td>\n",
       "      <td>-0.427945</td>\n",
       "      <td>0.345877</td>\n",
       "      <td>-0.391731</td>\n",
       "      <td>-0.363322</td>\n",
       "      <td>1.000000</td>\n",
       "    </tr>\n",
       "  </tbody>\n",
       "</table>\n",
       "</div>"
      ],
      "text/plain": [
       "               age       sex        cp  trestbps      chol       fbs  \\\n",
       "age       1.000000 -0.098447 -0.068653  0.271469  0.175342  0.121308   \n",
       "sex      -0.098447  1.000000 -0.049353 -0.011801 -0.121806  0.045032   \n",
       "cp       -0.068653 -0.049353  1.000000  0.067629 -0.092265  0.094444   \n",
       "trestbps  0.271469 -0.011801  0.067629  1.000000  0.090445  0.119097   \n",
       "chol      0.175342 -0.121806 -0.092265  0.090445  1.000000  0.009208   \n",
       "fbs       0.121308  0.045032  0.094444  0.119097  0.009208  1.000000   \n",
       "restecg  -0.116211 -0.058196  0.044421 -0.148485 -0.101369 -0.084189   \n",
       "thalach  -0.389786 -0.036642  0.290380 -0.072843 -0.035011 -0.013815   \n",
       "exang     0.096801  0.141664 -0.394280  0.003658  0.102073  0.025665   \n",
       "oldpeak   0.211533  0.098601 -0.135233  0.142574  0.012005  0.035026   \n",
       "slope    -0.168814 -0.030711  0.119717 -0.087785  0.021603 -0.059894   \n",
       "ca        0.316359  0.036865 -0.187366  0.030592  0.072046  0.105819   \n",
       "thal      0.066745  0.211652 -0.169125  0.007076  0.059137 -0.011209   \n",
       "target   -0.225439 -0.280937  0.433798 -0.118564 -0.115910 -0.028046   \n",
       "\n",
       "           restecg   thalach     exang   oldpeak     slope        ca  \\\n",
       "age      -0.116211 -0.389786  0.096801  0.211533 -0.168814  0.316359   \n",
       "sex      -0.058196 -0.036642  0.141664  0.098601 -0.030711  0.036865   \n",
       "cp        0.044421  0.290380 -0.394280 -0.135233  0.119717 -0.187366   \n",
       "trestbps -0.148485 -0.072843  0.003658  0.142574 -0.087785  0.030592   \n",
       "chol     -0.101369 -0.035011  0.102073  0.012005  0.021603  0.072046   \n",
       "fbs      -0.084189 -0.013815  0.025665  0.035026 -0.059894  0.105819   \n",
       "restecg   1.000000  0.055943 -0.070733 -0.094463  0.093045 -0.084094   \n",
       "thalach   0.055943  1.000000 -0.394829 -0.338279  0.386771 -0.178150   \n",
       "exang    -0.070733 -0.394829  1.000000  0.310747 -0.257748  0.178502   \n",
       "oldpeak  -0.094463 -0.338279  0.310747  1.000000 -0.506265  0.265581   \n",
       "slope     0.093045  0.386771 -0.257748 -0.506265  1.000000 -0.032687   \n",
       "ca       -0.084094 -0.178150  0.178502  0.265581 -0.032687  1.000000   \n",
       "thal     -0.013795 -0.124350  0.225508  0.196434 -0.106310  0.111749   \n",
       "target    0.137230  0.417040 -0.436757 -0.427945  0.345877 -0.391731   \n",
       "\n",
       "              thal    target  \n",
       "age       0.066745 -0.225439  \n",
       "sex       0.211652 -0.280937  \n",
       "cp       -0.169125  0.433798  \n",
       "trestbps  0.007076 -0.118564  \n",
       "chol      0.059137 -0.115910  \n",
       "fbs      -0.011209 -0.028046  \n",
       "restecg  -0.013795  0.137230  \n",
       "thalach  -0.124350  0.417040  \n",
       "exang     0.225508 -0.436757  \n",
       "oldpeak   0.196434 -0.427945  \n",
       "slope    -0.106310  0.345877  \n",
       "ca        0.111749 -0.391731  \n",
       "thal      1.000000 -0.363322  \n",
       "target   -0.363322  1.000000  "
      ]
     },
     "execution_count": 125,
     "metadata": {},
     "output_type": "execute_result"
    }
   ],
   "source": [
    "df.corr()"
   ]
  },
  {
   "cell_type": "code",
   "execution_count": 126,
   "id": "9ebeb12c",
   "metadata": {},
   "outputs": [
    {
     "data": {
      "text/plain": [
       "<AxesSubplot:>"
      ]
     },
     "execution_count": 126,
     "metadata": {},
     "output_type": "execute_result"
    },
    {
     "data": {
      "image/png": "[encoded data removed]",
      "text/plain": [
       "<Figure size 2000x2000 with 2 Axes>"
      ]
     },
     "metadata": {},
     "output_type": "display_data"
    }
   ],
   "source": [
    "\n",
    "plt.figure(figsize=(20,20))\n",
    "sns.heatmap(df.corr(),annot = True)"
   ]
  },
  {
   "cell_type": "markdown",
   "id": "f90a86fe",
   "metadata": {},
   "source": [
    "# Model Training"
   ]
  },
  {
   "cell_type": "code",
   "execution_count": 127,
   "id": "45f1596f",
   "metadata": {},
   "outputs": [],
   "source": [
    "x = df.drop('target',axis = 1)\n",
    "y = df['target']"
   ]
  },
  {
   "cell_type": "code",
   "execution_count": 134,
   "id": "07be94df",
   "metadata": {},
   "outputs": [],
   "source": [
    "x_train,x_test,y_train,y_test = train_test_split(x,y,test_size=0.25,random_state=1,stratify =y)"
   ]
  },
  {
   "cell_type": "code",
   "execution_count": 135,
   "id": "dcf868d8",
   "metadata": {},
   "outputs": [
    {
     "data": {
      "text/html": [
       "<style>#sk-container-id-2 {color: black;background-color: white;}#sk-container-id-2 pre{padding: 0;}#sk-container-id-2 div.sk-toggleable {background-color: white;}#sk-container-id-2 label.sk-toggleable__label {cursor: pointer;display: block;width: 100%;margin-bottom: 0;padding: 0.3em;box-sizing: border-box;text-align: center;}#sk-container-id-2 label.sk-toggleable__label-arrow:before {content: \"▸\";float: left;margin-right: 0.25em;color: #696969;}#sk-container-id-2 label.sk-toggleable__label-arrow:hover:before {color: black;}#sk-container-id-2 div.sk-estimator:hover label.sk-toggleable__label-arrow:before {color: black;}#sk-container-id-2 div.sk-toggleable__content {max-height: 0;max-width: 0;overflow: hidden;text-align: left;background-color: #f0f8ff;}#sk-container-id-2 div.sk-toggleable__content pre {margin: 0.2em;color: black;border-radius: 0.25em;background-color: #f0f8ff;}#sk-container-id-2 input.sk-toggleable__control:checked~div.sk-toggleable__content {max-height: 200px;max-width: 100%;overflow: auto;}#sk-container-id-2 input.sk-toggleable__control:checked~label.sk-toggleable__label-arrow:before {content: \"▾\";}#sk-container-id-2 div.sk-estimator input.sk-toggleable__control:checked~label.sk-toggleable__label {background-color: #d4ebff;}#sk-container-id-2 div.sk-label input.sk-toggleable__control:checked~label.sk-toggleable__label {background-color: #d4ebff;}#sk-container-id-2 input.sk-hidden--visually {border: 0;clip: rect(1px 1px 1px 1px);clip: rect(1px, 1px, 1px, 1px);height: 1px;margin: -1px;overflow: hidden;padding: 0;position: absolute;width: 1px;}#sk-container-id-2 div.sk-estimator {font-family: monospace;background-color: #f0f8ff;border: 1px dotted black;border-radius: 0.25em;box-sizing: border-box;margin-bottom: 0.5em;}#sk-container-id-2 div.sk-estimator:hover {background-color: #d4ebff;}#sk-container-id-2 div.sk-parallel-item::after {content: \"\";width: 100%;border-bottom: 1px solid gray;flex-grow: 1;}#sk-container-id-2 div.sk-label:hover label.sk-toggleable__label {background-color: #d4ebff;}#sk-container-id-2 div.sk-serial::before {content: \"\";position: absolute;border-left: 1px solid gray;box-sizing: border-box;top: 0;bottom: 0;left: 50%;z-index: 0;}#sk-container-id-2 div.sk-serial {display: flex;flex-direction: column;align-items: center;background-color: white;padding-right: 0.2em;padding-left: 0.2em;position: relative;}#sk-container-id-2 div.sk-item {position: relative;z-index: 1;}#sk-container-id-2 div.sk-parallel {display: flex;align-items: stretch;justify-content: center;background-color: white;position: relative;}#sk-container-id-2 div.sk-item::before, #sk-container-id-2 div.sk-parallel-item::before {content: \"\";position: absolute;border-left: 1px solid gray;box-sizing: border-box;top: 0;bottom: 0;left: 50%;z-index: -1;}#sk-container-id-2 div.sk-parallel-item {display: flex;flex-direction: column;z-index: 1;position: relative;background-color: white;}#sk-container-id-2 div.sk-parallel-item:first-child::after {align-self: flex-end;width: 50%;}#sk-container-id-2 div.sk-parallel-item:last-child::after {align-self: flex-start;width: 50%;}#sk-container-id-2 div.sk-parallel-item:only-child::after {width: 0;}#sk-container-id-2 div.sk-dashed-wrapped {border: 1px dashed gray;margin: 0 0.4em 0.5em 0.4em;box-sizing: border-box;padding-bottom: 0.4em;background-color: white;}#sk-container-id-2 div.sk-label label {font-family: monospace;font-weight: bold;display: inline-block;line-height: 1.2em;}#sk-container-id-2 div.sk-label-container {text-align: center;}#sk-container-id-2 div.sk-container {/* jupyter's `normalize.less` sets `[hidden] { display: none; }` but bootstrap.min.css set `[hidden] { display: none !important; }` so we also need the `!important` here to be able to override the default hidden behavior on the sphinx rendered scikit-learn.org. See: https://github.com/scikit-learn/scikit-learn/issues/21755 */display: inline-block !important;position: relative;}#sk-container-id-2 div.sk-text-repr-fallback {display: none;}</style><div id=\"sk-container-id-2\" class=\"sk-top-container\"><div class=\"sk-text-repr-fallback\"><pre>LogisticRegression()</pre><b>In a Jupyter environment, please rerun this cell to show the HTML representation or trust the notebook. <br />On GitHub, the HTML representation is unable to render, please try loading this page with nbviewer.org.</b></div><div class=\"sk-container\" hidden><div class=\"sk-item\"><div class=\"sk-estimator sk-toggleable\"><input class=\"sk-toggleable__control sk-hidden--visually\" id=\"sk-estimator-id-2\" type=\"checkbox\" checked><label for=\"sk-estimator-id-2\" class=\"sk-toggleable__label sk-toggleable__label-arrow\">LogisticRegression</label><div class=\"sk-toggleable__content\"><pre>LogisticRegression()</pre></div></div></div></div></div>"
      ],
      "text/plain": [
       "LogisticRegression()"
      ]
     },
     "execution_count": 135,
     "metadata": {},
     "output_type": "execute_result"
    }
   ],
   "source": [
    "heart_model = LogisticRegression()\n",
    "heart_model.fit(x_train,y_train)"
   ]
  },
  {
   "cell_type": "code",
   "execution_count": 137,
   "id": "393f42f5",
   "metadata": {
    "scrolled": true
   },
   "outputs": [
    {
     "data": {
      "text/plain": [
       "<sklearn.metrics._plot.confusion_matrix.ConfusionMatrixDisplay at 0x27209ad5ae0>"
      ]
     },
     "execution_count": 137,
     "metadata": {},
     "output_type": "execute_result"
    },
    {
     "data": {
      "image/png": "[encoded data removed]",
      "text/plain": [
       "<Figure size 640x480 with 2 Axes>"
      ]
     },
     "metadata": {},
     "output_type": "display_data"
    }
   ],
   "source": [
    "# Training Data\n",
    "plot_confusion_matrix(heart_model, x_train, y_train)"
   ]
  },
  {
   "cell_type": "code",
   "execution_count": 138,
   "id": "80f79d86",
   "metadata": {},
   "outputs": [
    {
     "data": {
      "text/plain": [
       "<sklearn.metrics._plot.confusion_matrix.ConfusionMatrixDisplay at 0x27209b33fd0>"
      ]
     },
     "execution_count": 138,
     "metadata": {},
     "output_type": "execute_result"
    },
    {
     "data": {
      "image/png": "[encoded data removed]",
      "text/plain": [
       "<Figure size 640x480 with 2 Axes>"
      ]
     },
     "metadata": {},
     "output_type": "display_data"
    }
   ],
   "source": [
    "# Training Data\n",
    "plot_confusion_matrix(heart_model, x_test, y_test)"
   ]
  },
  {
   "cell_type": "code",
   "execution_count": 139,
   "id": "4620b3e4",
   "metadata": {},
   "outputs": [
    {
     "data": {
      "text/plain": [
       "0.8502202643171806"
      ]
     },
     "execution_count": 139,
     "metadata": {},
     "output_type": "execute_result"
    }
   ],
   "source": [
    "# Training Accuracy\n",
    "heart_model.score(x_train, y_train)"
   ]
  },
  {
   "cell_type": "code",
   "execution_count": 140,
   "id": "7a6f1842",
   "metadata": {},
   "outputs": [
    {
     "data": {
      "text/plain": [
       "0.8552631578947368"
      ]
     },
     "execution_count": 140,
     "metadata": {},
     "output_type": "execute_result"
    }
   ],
   "source": [
    "# Testing Accuracy\n",
    "heart_model.score(x_test, y_test)"
   ]
  },
  {
   "cell_type": "markdown",
   "id": "2012b3f9",
   "metadata": {},
   "source": [
    "# Model Evaluation"
   ]
  },
  {
   "cell_type": "code",
   "execution_count": 158,
   "id": "f6119b30",
   "metadata": {},
   "outputs": [
    {
     "data": {
      "text/html": [
       "<div>\n",
       "<style scoped>\n",
       "    .dataframe tbody tr th:only-of-type {\n",
       "        vertical-align: middle;\n",
       "    }\n",
       "\n",
       "    .dataframe tbody tr th {\n",
       "        vertical-align: top;\n",
       "    }\n",
       "\n",
       "    .dataframe thead th {\n",
       "        text-align: right;\n",
       "    }\n",
       "</style>\n",
       "<table border=\"1\" class=\"dataframe\">\n",
       "  <thead>\n",
       "    <tr style=\"text-align: right;\">\n",
       "      <th></th>\n",
       "      <th>age</th>\n",
       "      <th>sex</th>\n",
       "      <th>cp</th>\n",
       "      <th>trestbps</th>\n",
       "      <th>chol</th>\n",
       "      <th>fbs</th>\n",
       "      <th>restecg</th>\n",
       "      <th>thalach</th>\n",
       "      <th>exang</th>\n",
       "      <th>oldpeak</th>\n",
       "      <th>slope</th>\n",
       "      <th>ca</th>\n",
       "      <th>thal</th>\n",
       "    </tr>\n",
       "  </thead>\n",
       "  <tbody>\n",
       "    <tr>\n",
       "      <th>137</th>\n",
       "      <td>62</td>\n",
       "      <td>1</td>\n",
       "      <td>1</td>\n",
       "      <td>128</td>\n",
       "      <td>208</td>\n",
       "      <td>1</td>\n",
       "      <td>0</td>\n",
       "      <td>140.0</td>\n",
       "      <td>0</td>\n",
       "      <td>0.0</td>\n",
       "      <td>2</td>\n",
       "      <td>0</td>\n",
       "      <td>2</td>\n",
       "    </tr>\n",
       "    <tr>\n",
       "      <th>173</th>\n",
       "      <td>58</td>\n",
       "      <td>1</td>\n",
       "      <td>2</td>\n",
       "      <td>132</td>\n",
       "      <td>224</td>\n",
       "      <td>0</td>\n",
       "      <td>0</td>\n",
       "      <td>173.0</td>\n",
       "      <td>0</td>\n",
       "      <td>3.2</td>\n",
       "      <td>2</td>\n",
       "      <td>2</td>\n",
       "      <td>3</td>\n",
       "    </tr>\n",
       "    <tr>\n",
       "      <th>187</th>\n",
       "      <td>54</td>\n",
       "      <td>1</td>\n",
       "      <td>0</td>\n",
       "      <td>124</td>\n",
       "      <td>266</td>\n",
       "      <td>0</td>\n",
       "      <td>0</td>\n",
       "      <td>109.0</td>\n",
       "      <td>1</td>\n",
       "      <td>2.2</td>\n",
       "      <td>1</td>\n",
       "      <td>1</td>\n",
       "      <td>3</td>\n",
       "    </tr>\n",
       "    <tr>\n",
       "      <th>215</th>\n",
       "      <td>43</td>\n",
       "      <td>0</td>\n",
       "      <td>0</td>\n",
       "      <td>132</td>\n",
       "      <td>341</td>\n",
       "      <td>1</td>\n",
       "      <td>0</td>\n",
       "      <td>136.0</td>\n",
       "      <td>1</td>\n",
       "      <td>3.0</td>\n",
       "      <td>1</td>\n",
       "      <td>0</td>\n",
       "      <td>3</td>\n",
       "    </tr>\n",
       "    <tr>\n",
       "      <th>270</th>\n",
       "      <td>46</td>\n",
       "      <td>1</td>\n",
       "      <td>0</td>\n",
       "      <td>120</td>\n",
       "      <td>249</td>\n",
       "      <td>0</td>\n",
       "      <td>0</td>\n",
       "      <td>144.0</td>\n",
       "      <td>0</td>\n",
       "      <td>0.8</td>\n",
       "      <td>2</td>\n",
       "      <td>0</td>\n",
       "      <td>3</td>\n",
       "    </tr>\n",
       "    <tr>\n",
       "      <th>...</th>\n",
       "      <td>...</td>\n",
       "      <td>...</td>\n",
       "      <td>...</td>\n",
       "      <td>...</td>\n",
       "      <td>...</td>\n",
       "      <td>...</td>\n",
       "      <td>...</td>\n",
       "      <td>...</td>\n",
       "      <td>...</td>\n",
       "      <td>...</td>\n",
       "      <td>...</td>\n",
       "      <td>...</td>\n",
       "      <td>...</td>\n",
       "    </tr>\n",
       "    <tr>\n",
       "      <th>142</th>\n",
       "      <td>42</td>\n",
       "      <td>0</td>\n",
       "      <td>2</td>\n",
       "      <td>120</td>\n",
       "      <td>209</td>\n",
       "      <td>0</td>\n",
       "      <td>1</td>\n",
       "      <td>173.0</td>\n",
       "      <td>0</td>\n",
       "      <td>0.0</td>\n",
       "      <td>1</td>\n",
       "      <td>0</td>\n",
       "      <td>2</td>\n",
       "    </tr>\n",
       "    <tr>\n",
       "      <th>166</th>\n",
       "      <td>67</td>\n",
       "      <td>1</td>\n",
       "      <td>0</td>\n",
       "      <td>120</td>\n",
       "      <td>229</td>\n",
       "      <td>0</td>\n",
       "      <td>0</td>\n",
       "      <td>129.0</td>\n",
       "      <td>1</td>\n",
       "      <td>2.6</td>\n",
       "      <td>1</td>\n",
       "      <td>2</td>\n",
       "      <td>3</td>\n",
       "    </tr>\n",
       "    <tr>\n",
       "      <th>133</th>\n",
       "      <td>41</td>\n",
       "      <td>1</td>\n",
       "      <td>1</td>\n",
       "      <td>110</td>\n",
       "      <td>235</td>\n",
       "      <td>0</td>\n",
       "      <td>1</td>\n",
       "      <td>153.0</td>\n",
       "      <td>0</td>\n",
       "      <td>0.0</td>\n",
       "      <td>2</td>\n",
       "      <td>0</td>\n",
       "      <td>2</td>\n",
       "    </tr>\n",
       "    <tr>\n",
       "      <th>261</th>\n",
       "      <td>52</td>\n",
       "      <td>1</td>\n",
       "      <td>0</td>\n",
       "      <td>112</td>\n",
       "      <td>230</td>\n",
       "      <td>0</td>\n",
       "      <td>1</td>\n",
       "      <td>160.0</td>\n",
       "      <td>0</td>\n",
       "      <td>0.0</td>\n",
       "      <td>2</td>\n",
       "      <td>1</td>\n",
       "      <td>2</td>\n",
       "    </tr>\n",
       "    <tr>\n",
       "      <th>172</th>\n",
       "      <td>58</td>\n",
       "      <td>1</td>\n",
       "      <td>1</td>\n",
       "      <td>120</td>\n",
       "      <td>284</td>\n",
       "      <td>0</td>\n",
       "      <td>0</td>\n",
       "      <td>160.0</td>\n",
       "      <td>0</td>\n",
       "      <td>1.8</td>\n",
       "      <td>1</td>\n",
       "      <td>0</td>\n",
       "      <td>2</td>\n",
       "    </tr>\n",
       "  </tbody>\n",
       "</table>\n",
       "<p>76 rows × 13 columns</p>\n",
       "</div>"
      ],
      "text/plain": [
       "     age  sex  cp  trestbps  chol  fbs  restecg  thalach  exang  oldpeak  \\\n",
       "137   62    1   1       128   208    1        0    140.0      0      0.0   \n",
       "173   58    1   2       132   224    0        0    173.0      0      3.2   \n",
       "187   54    1   0       124   266    0        0    109.0      1      2.2   \n",
       "215   43    0   0       132   341    1        0    136.0      1      3.0   \n",
       "270   46    1   0       120   249    0        0    144.0      0      0.8   \n",
       "..   ...  ...  ..       ...   ...  ...      ...      ...    ...      ...   \n",
       "142   42    0   2       120   209    0        1    173.0      0      0.0   \n",
       "166   67    1   0       120   229    0        0    129.0      1      2.6   \n",
       "133   41    1   1       110   235    0        1    153.0      0      0.0   \n",
       "261   52    1   0       112   230    0        1    160.0      0      0.0   \n",
       "172   58    1   1       120   284    0        0    160.0      0      1.8   \n",
       "\n",
       "     slope  ca  thal  \n",
       "137      2   0     2  \n",
       "173      2   2     3  \n",
       "187      1   1     3  \n",
       "215      1   0     3  \n",
       "270      2   0     3  \n",
       "..     ...  ..   ...  \n",
       "142      1   0     2  \n",
       "166      1   2     3  \n",
       "133      2   0     2  \n",
       "261      2   1     2  \n",
       "172      1   0     2  \n",
       "\n",
       "[76 rows x 13 columns]"
      ]
     },
     "execution_count": 158,
     "metadata": {},
     "output_type": "execute_result"
    }
   ],
   "source": [
    "# # prediction\n",
    "# y_pred = heart_model.predict(x_test)\n",
    "# y_pred\n",
    "x_test"
   ]
  },
  {
   "cell_type": "code",
   "execution_count": 142,
   "id": "78a3c664",
   "metadata": {},
   "outputs": [
    {
     "data": {
      "text/plain": [
       "array([[0.25495307, 0.74504693],\n",
       "       [0.85117695, 0.14882305],\n",
       "       [0.99352928, 0.00647072],\n",
       "       [0.86049629, 0.13950371],\n",
       "       [0.73062337, 0.26937663],\n",
       "       [0.37780812, 0.62219188],\n",
       "       [0.96522045, 0.03477955],\n",
       "       [0.45411299, 0.54588701],\n",
       "       [0.75413173, 0.24586827],\n",
       "       [0.18221595, 0.81778405],\n",
       "       [0.87082632, 0.12917368],\n",
       "       [0.80033873, 0.19966127],\n",
       "       [0.05105548, 0.94894452],\n",
       "       [0.67367544, 0.32632456],\n",
       "       [0.68748282, 0.31251718],\n",
       "       [0.3443168 , 0.6556832 ],\n",
       "       [0.85344689, 0.14655311],\n",
       "       [0.16456507, 0.83543493],\n",
       "       [0.22457672, 0.77542328],\n",
       "       [0.18208706, 0.81791294],\n",
       "       [0.31113518, 0.68886482],\n",
       "       [0.06229875, 0.93770125],\n",
       "       [0.97493113, 0.02506887],\n",
       "       [0.30984903, 0.69015097],\n",
       "       [0.99590169, 0.00409831],\n",
       "       [0.97721782, 0.02278218],\n",
       "       [0.98449497, 0.01550503],\n",
       "       [0.57838406, 0.42161594],\n",
       "       [0.24557884, 0.75442116],\n",
       "       [0.05647263, 0.94352737],\n",
       "       [0.36528074, 0.63471926],\n",
       "       [0.48070058, 0.51929942],\n",
       "       [0.28765452, 0.71234548],\n",
       "       [0.19123891, 0.80876109],\n",
       "       [0.99391566, 0.00608434],\n",
       "       [0.96365342, 0.03634658],\n",
       "       [0.1104088 , 0.8895912 ],\n",
       "       [0.05514446, 0.94485554],\n",
       "       [0.40444272, 0.59555728],\n",
       "       [0.43467502, 0.56532498],\n",
       "       [0.66096275, 0.33903725],\n",
       "       [0.04078401, 0.95921599],\n",
       "       [0.96211371, 0.03788629],\n",
       "       [0.01595962, 0.98404038],\n",
       "       [0.38446802, 0.61553198],\n",
       "       [0.44384638, 0.55615362],\n",
       "       [0.62027712, 0.37972288],\n",
       "       [0.96874903, 0.03125097],\n",
       "       [0.95251507, 0.04748493],\n",
       "       [0.01107381, 0.98892619],\n",
       "       [0.01463473, 0.98536527],\n",
       "       [0.20284745, 0.79715255],\n",
       "       [0.32339139, 0.67660861],\n",
       "       [0.92266006, 0.07733994],\n",
       "       [0.23962925, 0.76037075],\n",
       "       [0.06289325, 0.93710675],\n",
       "       [0.29244949, 0.70755051],\n",
       "       [0.23106171, 0.76893829],\n",
       "       [0.03316944, 0.96683056],\n",
       "       [0.04121123, 0.95878877],\n",
       "       [0.1681646 , 0.8318354 ],\n",
       "       [0.11458615, 0.88541385],\n",
       "       [0.96059119, 0.03940881],\n",
       "       [0.66834691, 0.33165309],\n",
       "       [0.97793092, 0.02206908],\n",
       "       [0.47654807, 0.52345193],\n",
       "       [0.72701203, 0.27298797],\n",
       "       [0.37999703, 0.62000297],\n",
       "       [0.40698693, 0.59301307],\n",
       "       [0.70859191, 0.29140809],\n",
       "       [0.08658446, 0.91341554],\n",
       "       [0.01324989, 0.98675011],\n",
       "       [0.9964227 , 0.0035773 ],\n",
       "       [0.1266857 , 0.8733143 ],\n",
       "       [0.49358519, 0.50641481],\n",
       "       [0.45755917, 0.54244083]])"
      ]
     },
     "execution_count": 142,
     "metadata": {},
     "output_type": "execute_result"
    }
   ],
   "source": [
    "# prediction probability\n",
    "y_pred_proba = heart_model.predict_proba(x_test)\n",
    "y_pred_proba"
   ]
  },
  {
   "cell_type": "code",
   "execution_count": 145,
   "id": "988f9a00",
   "metadata": {},
   "outputs": [
    {
     "name": "stdout",
     "output_type": "stream",
     "text": [
      "Confusion Matrix:\n",
      " [[27  8]\n",
      " [ 3 38]]\n",
      "*********************************************\n",
      "Accuracy Score: 0.8552631578947368\n",
      "*********************************************\n",
      "Classification report:\n",
      "               precision    recall  f1-score   support\n",
      "\n",
      "          no       0.90      0.77      0.83        35\n",
      "         yes       0.83      0.93      0.87        41\n",
      "\n",
      "    accuracy                           0.86        76\n",
      "   macro avg       0.86      0.85      0.85        76\n",
      "weighted avg       0.86      0.86      0.85        76\n",
      "\n"
     ]
    }
   ],
   "source": [
    "# Testing data\n",
    "cnf_matrix = confusion_matrix(y_test, y_pred)\n",
    "print(\"Confusion Matrix:\\n\",cnf_matrix)\n",
    "\n",
    "print(\"*\"*45)\n",
    "accuracy = accuracy_score(y_test, y_pred)\n",
    "print(\"Accuracy Score:\",accuracy)\n",
    "print(\"*\"*45)\n",
    "\n",
    "clf_report = classification_report(y_test, y_pred)\n",
    "print(\"Classification report:\\n\",clf_report)"
   ]
  },
  {
   "cell_type": "code",
   "execution_count": 146,
   "id": "87c35bff",
   "metadata": {},
   "outputs": [
    {
     "name": "stdout",
     "output_type": "stream",
     "text": [
      "Confusion Matrix:\n",
      " [[ 81  22]\n",
      " [ 12 112]]\n",
      "*********************************************\n",
      "Accuracy Score: 0.8502202643171806\n",
      "*********************************************\n",
      "Classification report:\n",
      "               precision    recall  f1-score   support\n",
      "\n",
      "          no       0.87      0.79      0.83       103\n",
      "         yes       0.84      0.90      0.87       124\n",
      "\n",
      "    accuracy                           0.85       227\n",
      "   macro avg       0.85      0.84      0.85       227\n",
      "weighted avg       0.85      0.85      0.85       227\n",
      "\n"
     ]
    }
   ],
   "source": [
    "# Training data\n",
    "\n",
    "# prediction\n",
    "y_pred_train = heart_model.predict(x_train)\n",
    "\n",
    "cnf_matrix = confusion_matrix(y_train, y_pred_train)\n",
    "print(\"Confusion Matrix:\\n\",cnf_matrix)\n",
    "\n",
    "# Visualization\n",
    "\n",
    "print(\"*\"*45)\n",
    "accuracy = accuracy_score(y_train, y_pred_train)\n",
    "print(\"Accuracy Score:\",accuracy)\n",
    "print(\"*\"*45)\n",
    "\n",
    "clf_report = classification_report(y_train, y_pred_train)\n",
    "print(\"Classification report:\\n\",clf_report)"
   ]
  },
  {
   "cell_type": "markdown",
   "id": "b753ac7e",
   "metadata": {},
   "source": [
    "# AUC-ROC Curve"
   ]
  },
  {
   "cell_type": "code",
   "execution_count": 151,
   "id": "2d0218ae",
   "metadata": {},
   "outputs": [
    {
     "data": {
      "text/plain": [
       "array([0.58105771, 0.18455014, 0.29935815, 0.68072408, 0.66894169,\n",
       "       0.95864509, 0.92578006, 0.68516936, 0.00344106, 0.73606533,\n",
       "       0.43301369, 0.89373201, 0.43583736, 0.8093224 , 0.84158527,\n",
       "       0.77981253, 0.92536111, 0.94163668, 0.72424645, 0.26895851,\n",
       "       0.5922563 , 0.06104782, 0.94924937, 0.89432955, 0.38163323,\n",
       "       0.00556087, 0.98883372, 0.83043808, 0.05483441, 0.01659061,\n",
       "       0.92365916, 0.82200029, 0.12854098, 0.95330373, 0.69985696,\n",
       "       0.98289139, 0.66736686, 0.96673508, 0.82959982, 0.50698639,\n",
       "       0.00186008, 0.67260391, 0.96746467, 0.82298852, 0.48283857,\n",
       "       0.27480878, 0.88448628, 0.7863158 , 0.28308422, 0.70009863,\n",
       "       0.91568606, 0.04090161, 0.97156591, 0.03858703, 0.82675618,\n",
       "       0.98077482, 0.87789018, 0.95122556, 0.8721058 , 0.94857527,\n",
       "       0.15247275, 0.44023557, 0.93990978, 0.28759761, 0.02954891,\n",
       "       0.04192265, 0.85241171, 0.21716629, 0.87286359, 0.96117443,\n",
       "       0.24945931, 0.88337666, 0.93128877, 0.56073367, 0.59628385,\n",
       "       0.5105335 , 0.63337725, 0.06020968, 0.94881559, 0.58033141,\n",
       "       0.05744264, 0.36428644, 0.95465553, 0.03913513, 0.99205972,\n",
       "       0.54838162, 0.17589035, 0.97250897, 0.60818923, 0.80596157,\n",
       "       0.9501728 , 0.78647704, 0.67456413, 0.99212376, 0.45622944,\n",
       "       0.01560275, 0.05157548, 0.49675337, 0.03419229, 0.89979564,\n",
       "       0.37917262, 0.97302494, 0.18514819, 0.02037335, 0.79777863,\n",
       "       0.00273465, 0.00559894, 0.01203402, 0.11064728, 0.62617773,\n",
       "       0.92301595, 0.53246993, 0.04431512, 0.93038426, 0.66519337,\n",
       "       0.03936683, 0.30743742, 0.59398212, 0.92370666, 0.71135219,\n",
       "       0.05203579, 0.91100125, 0.98847194, 0.19835187, 0.95112161,\n",
       "       0.02564242, 0.48431195, 0.03529209, 0.95048591, 0.012443  ,\n",
       "       0.94324291, 0.02165878, 0.9635049 , 0.75513253, 0.06393306,\n",
       "       0.75013801, 0.93177256, 0.51138436, 0.07957527, 0.00817561,\n",
       "       0.84893041, 0.28718533, 0.01354925, 0.99191592, 0.08279727,\n",
       "       0.52289022, 0.01436287, 0.01697843, 0.51962228, 0.36331648,\n",
       "       0.00324304, 0.84100638, 0.02011855, 0.85069858, 0.58112875,\n",
       "       0.66834333, 0.00924706, 0.87863795, 0.67859971, 0.98861131,\n",
       "       0.00404859, 0.17527906, 0.93636623, 0.9635049 , 0.84943914,\n",
       "       0.79827791, 0.79658875, 0.83697487, 0.85701779, 0.22644926,\n",
       "       0.47575111, 0.98530239, 0.73546283, 0.09628266, 0.03424356,\n",
       "       0.69592978, 0.94062723, 0.28124778, 0.87819827, 0.01569105,\n",
       "       0.96497046, 0.92333537, 0.48615049, 0.05291153, 0.76247774,\n",
       "       0.93056851, 0.74866076, 0.79456703, 0.9959289 , 0.08013819,\n",
       "       0.81062645, 0.4793318 , 0.90472447, 0.09669054, 0.01122199,\n",
       "       0.87106724, 0.87900976, 0.90591271, 0.25592775, 0.86868356,\n",
       "       0.71570863, 0.96396706, 0.00463316, 0.95603617, 0.26289847,\n",
       "       0.04965807, 0.60349828, 0.37667087, 0.53793289, 0.66987824,\n",
       "       0.3031255 , 0.96395541, 0.3498503 , 0.98670975, 0.23746453,\n",
       "       0.0198232 , 0.78377252, 0.04832013, 0.98333388, 0.60382599,\n",
       "       0.00238679, 0.0430098 , 0.52789897, 0.04562903, 0.08973455,\n",
       "       0.02793806, 0.57262687])"
      ]
     },
     "execution_count": 151,
     "metadata": {},
     "output_type": "execute_result"
    }
   ],
   "source": [
    "# prediction probability\n",
    "y_pred_proba = heart_model.predict_proba(x_train)\n",
    "y_pred_proba[:,1]  # We are getting class 1 probability"
   ]
  },
  {
   "cell_type": "code",
   "execution_count": 161,
   "id": "347716cb",
   "metadata": {},
   "outputs": [],
   "source": [
    "# fpr, tpr, thresh = roc_curve(y_train, y_pred_proba[:,1])"
   ]
  },
  {
   "cell_type": "code",
   "execution_count": 160,
   "id": "43682dee",
   "metadata": {},
   "outputs": [],
   "source": [
    "# Plot AUC-ROC\n",
    "# plt.plot(fpr,tpr)\n",
    "# plt.xlabel(\"False Positive Rate -->\")\n",
    "# plt.ylabel(\"True Positive Rate -->\")\n",
    "# plt.title(\"Reciever Operating Characteristics\")"
   ]
  },
  {
   "cell_type": "markdown",
   "id": "1947fa40",
   "metadata": {},
   "source": [
    "# Training on single row"
   ]
  },
  {
   "cell_type": "code",
   "execution_count": 162,
   "id": "a4af1ba2",
   "metadata": {},
   "outputs": [
    {
     "data": {
      "text/html": [
       "<div>\n",
       "<style scoped>\n",
       "    .dataframe tbody tr th:only-of-type {\n",
       "        vertical-align: middle;\n",
       "    }\n",
       "\n",
       "    .dataframe tbody tr th {\n",
       "        vertical-align: top;\n",
       "    }\n",
       "\n",
       "    .dataframe thead th {\n",
       "        text-align: right;\n",
       "    }\n",
       "</style>\n",
       "<table border=\"1\" class=\"dataframe\">\n",
       "  <thead>\n",
       "    <tr style=\"text-align: right;\">\n",
       "      <th></th>\n",
       "      <th>0</th>\n",
       "    </tr>\n",
       "  </thead>\n",
       "  <tbody>\n",
       "    <tr>\n",
       "      <th>age</th>\n",
       "      <td>63.0</td>\n",
       "    </tr>\n",
       "    <tr>\n",
       "      <th>sex</th>\n",
       "      <td>1.0</td>\n",
       "    </tr>\n",
       "    <tr>\n",
       "      <th>cp</th>\n",
       "      <td>3.0</td>\n",
       "    </tr>\n",
       "    <tr>\n",
       "      <th>trestbps</th>\n",
       "      <td>145.0</td>\n",
       "    </tr>\n",
       "    <tr>\n",
       "      <th>chol</th>\n",
       "      <td>233.0</td>\n",
       "    </tr>\n",
       "    <tr>\n",
       "      <th>fbs</th>\n",
       "      <td>1.0</td>\n",
       "    </tr>\n",
       "    <tr>\n",
       "      <th>restecg</th>\n",
       "      <td>0.0</td>\n",
       "    </tr>\n",
       "    <tr>\n",
       "      <th>thalach</th>\n",
       "      <td>150.0</td>\n",
       "    </tr>\n",
       "    <tr>\n",
       "      <th>exang</th>\n",
       "      <td>0.0</td>\n",
       "    </tr>\n",
       "    <tr>\n",
       "      <th>oldpeak</th>\n",
       "      <td>2.3</td>\n",
       "    </tr>\n",
       "    <tr>\n",
       "      <th>slope</th>\n",
       "      <td>0.0</td>\n",
       "    </tr>\n",
       "    <tr>\n",
       "      <th>ca</th>\n",
       "      <td>0.0</td>\n",
       "    </tr>\n",
       "    <tr>\n",
       "      <th>thal</th>\n",
       "      <td>1.0</td>\n",
       "    </tr>\n",
       "  </tbody>\n",
       "</table>\n",
       "</div>"
      ],
      "text/plain": [
       "              0\n",
       "age        63.0\n",
       "sex         1.0\n",
       "cp          3.0\n",
       "trestbps  145.0\n",
       "chol      233.0\n",
       "fbs         1.0\n",
       "restecg     0.0\n",
       "thalach   150.0\n",
       "exang       0.0\n",
       "oldpeak     2.3\n",
       "slope       0.0\n",
       "ca          0.0\n",
       "thal        1.0"
      ]
     },
     "execution_count": 162,
     "metadata": {},
     "output_type": "execute_result"
    }
   ],
   "source": [
    "x.head(1).T"
   ]
  },
  {
   "cell_type": "code",
   "execution_count": 163,
   "id": "8ea502e1",
   "metadata": {},
   "outputs": [
    {
     "data": {
      "text/plain": [
       "(13, 1)"
      ]
     },
     "execution_count": 163,
     "metadata": {},
     "output_type": "execute_result"
    }
   ],
   "source": [
    "x.head(1).T.shape"
   ]
  },
  {
   "cell_type": "code",
   "execution_count": 164,
   "id": "cd3ad839",
   "metadata": {},
   "outputs": [
    {
     "name": "stdout",
     "output_type": "stream",
     "text": [
      "Index(['age', 'sex', 'cp', 'trestbps', 'chol', 'fbs', 'restecg', 'thalach',\n",
      "       'exang', 'oldpeak', 'slope', 'ca', 'thal'],\n",
      "      dtype='object')\n"
     ]
    }
   ],
   "source": [
    "columns = x.columns\n",
    "print(columns)"
   ]
  },
  {
   "cell_type": "code",
   "execution_count": 165,
   "id": "e236707b",
   "metadata": {},
   "outputs": [
    {
     "data": {
      "text/plain": [
       "13"
      ]
     },
     "execution_count": 165,
     "metadata": {},
     "output_type": "execute_result"
    }
   ],
   "source": [
    "len(columns)"
   ]
  },
  {
   "cell_type": "code",
   "execution_count": 147,
   "id": "31c268e1",
   "metadata": {},
   "outputs": [],
   "source": [
    "sex_dict = {'male':1, 'female':0}\n",
    "cp_dict = {'typical angina':0,'atypical angina':1,'non-anginal pain':2,'asymptomatic':3}\n",
    "fbs_dict = {'lower':0, 'higher':1}\n",
    "restecg_dict = {'abnormal':0,'normal':1,'hyper':2}\n",
    "exang_dict = {'no':0,'yes':1}\n",
    "slope_dict = {'up':0,'flat':1,'down':2}\n",
    "thal_dict = {'normal':2,'fixed defect':1,'reversable defect':0}"
   ]
  },
  {
   "cell_type": "code",
   "execution_count": 167,
   "id": "0654317e",
   "metadata": {},
   "outputs": [],
   "source": [
    "# user intput\n",
    "age = 63\n",
    "sex = 'male'\n",
    "cp = 'typical angina'\n",
    "trestbps= 145\n",
    "chol = 233\n",
    "fbs = 'lower'\n",
    "restecg = 'abnormal'\n",
    "thalach = 150\n",
    "exang = 'no'\n",
    "oldpeak = 2.3\n",
    "slope = 'up'\n",
    "ca = 1\n",
    "thal = 'normal'\n"
   ]
  },
  {
   "cell_type": "code",
   "execution_count": 168,
   "id": "711a203c",
   "metadata": {},
   "outputs": [
    {
     "data": {
      "text/plain": [
       "Index(['age', 'sex', 'cp', 'trestbps', 'chol', 'fbs', 'restecg', 'thalach',\n",
       "       'exang', 'oldpeak', 'slope', 'ca', 'thal'],\n",
       "      dtype='object')"
      ]
     },
     "execution_count": 168,
     "metadata": {},
     "output_type": "execute_result"
    }
   ],
   "source": [
    "columns"
   ]
  },
  {
   "cell_type": "code",
   "execution_count": 169,
   "id": "ff324b0e",
   "metadata": {},
   "outputs": [
    {
     "data": {
      "text/plain": [
       "array([0, 0, 0, 0, 0, 0, 0, 0, 0, 0, 0, 0, 0])"
      ]
     },
     "execution_count": 169,
     "metadata": {},
     "output_type": "execute_result"
    }
   ],
   "source": [
    "array = np.zeros(columns.shape[0],dtype = int)\n",
    "array"
   ]
  },
  {
   "cell_type": "code",
   "execution_count": 170,
   "id": "70405774",
   "metadata": {},
   "outputs": [
    {
     "data": {
      "text/plain": [
       "13"
      ]
     },
     "execution_count": 170,
     "metadata": {},
     "output_type": "execute_result"
    }
   ],
   "source": [
    "len(columns)"
   ]
  },
  {
   "cell_type": "code",
   "execution_count": 159,
   "id": "cf764078",
   "metadata": {},
   "outputs": [
    {
     "data": {
      "text/plain": [
       "array([   3,  115,    1,    1,    1,    0,    0,   88,  168,   64,   48,\n",
       "       2548,    6,  130,    3,    2,    9,  111, 5000,   21,   27,    0,\n",
       "          1,    0,    0,    0,    0,    0,    0,    0,    0,    0,    0,\n",
       "          0,    0,    0,    0,    0,    0,    0,    0,    0,    0,    1,\n",
       "          0,    0,    0,    0,    1,    0,    0,    0,    0,    0,    0,\n",
       "          0,    0,    0,    0,    0,    0,    0,    1])"
      ]
     },
     "execution_count": 159,
     "metadata": {},
     "output_type": "execute_result"
    }
   ],
   "source": [
    "array = np.zeros(columns.shape[0],dtype = int)\n",
    "array[0] = age\n",
    "array[1] = normalized_losses\n",
    "array[2] = fuel_type_value[fuel_type]\n",
    "array[3] = aspiration_value[aspiration]\n",
    "array[4] = num_doors_value[num_of_doors]\n",
    "array[5] = drive_wheels_value[drive_wheels]\n",
    "array[6] = engine_loc_value[engine_location]\n",
    "array[7] = wheel_base\n",
    "array[8] = length\n",
    "array[9] = width\n",
    "array[10] = height\n",
    "array[11] = curb_weight\n",
    "array[12] = num_cyli_value[num_of_cylinders]\n",
    "array[13] = engine_size\n",
    "array[14] = bore\n",
    "array[15] = stroke\n",
    "array[16] = compression_ratio\n",
    "array[17] = horsepower\n",
    "array[18] = peak_rpm\n",
    "array[19] = city_mpg\n",
    "array[20] = highway_mpg\n",
    "\n",
    "\n",
    "array[body_style_index] = 1\n",
    "array[engine_type_index] = 1\n",
    "array[fuel_system_index] = 1\n",
    "array[make_index] = 1\n",
    "\n",
    "array"
   ]
  },
  {
   "cell_type": "code",
   "execution_count": 160,
   "id": "562a42e4",
   "metadata": {},
   "outputs": [
    {
     "name": "stdout",
     "output_type": "stream",
     "text": [
      "Predicted price of car is 13540.09 -/ Rs Only\n"
     ]
    }
   ],
   "source": [
    "predicted_price = auto_model.predict([array])[0]\n",
    "print(f\"Predicted price of car is {np.around(predicted_price,2)} -/ Rs Only\")"
   ]
  },
  {
   "cell_type": "code",
   "execution_count": 162,
   "id": "a7016e54",
   "metadata": {},
   "outputs": [
    {
     "data": {
      "text/plain": [
       "43"
      ]
     },
     "execution_count": 162,
     "metadata": {},
     "output_type": "execute_result"
    }
   ],
   "source": [
    "# store all this column is json \n",
    "json_auto_data  = {\"fuel_type_value\":fuel_type_value,\"aspiration_value\":aspiration_value,\n",
    "                       \"num_doors_value\":num_doors_value,\"drive_wheels_value\":drive_wheels_value,\n",
    "                       \"engine_loc_value\":engine_loc_value,\"num_cyli_value\":num_cyli_value,\n",
    "                      \"columns\":list(columns)}\n",
    "json_auto_data\n",
    "json_auto_data[\"columns\"].index(body_style_col)"
   ]
  },
  {
   "cell_type": "code",
   "execution_count": 164,
   "id": "359d21de",
   "metadata": {},
   "outputs": [
    {
     "data": {
      "text/plain": [
       "22"
      ]
     },
     "execution_count": 164,
     "metadata": {},
     "output_type": "execute_result"
    }
   ],
   "source": [
    "json_auto_data = {'fuel_type_value': {'gas': 1, 'diesel': 0},\n",
    " 'aspiration_value': {'std': 0, 'turbo': 1},\n",
    " 'num_doors_value': {'four': 0, 'two': 1},\n",
    " 'drive_wheels_value': {'fwd': 1, 'rwd': 2, '4wd': 0},\n",
    " 'engine_loc_value': {'front': 0, 'rear': 1},\n",
    " 'num_cyli_value': {'four': 2,\n",
    "  'six': 3,\n",
    "  'five': 1,\n",
    "  'eight': 0,\n",
    "  'two': 6,\n",
    "  'three': 4,\n",
    "  'twelve': 5},\n",
    " 'columns': ['symboling',\n",
    "  'normalized-losses',\n",
    "  'fuel-type',\n",
    "  'aspiration',\n",
    "  'num-of-doors',\n",
    "  'drive-wheels',\n",
    "  'engine-location',\n",
    "  'wheel-base',\n",
    "  'length',\n",
    "  'width',\n",
    "  'height',\n",
    "  'curb-weight',\n",
    "  'num-of-cylinders',\n",
    "  'engine-size',\n",
    "  'bore',\n",
    "  'stroke',\n",
    "  'compression-ratio',\n",
    "  'horsepower',\n",
    "  'peak-rpm',\n",
    "  'city-mpg',\n",
    "  'highway-mpg',\n",
    "  'make_alfa-romero',\n",
    "  'make_audi',\n",
    "  'make_bmw',\n",
    "  'make_chevrolet',\n",
    "  'make_dodge',\n",
    "  'make_honda',\n",
    "  'make_isuzu',\n",
    "  'make_jaguar',\n",
    "  'make_mazda',\n",
    "  'make_mercedes-benz',\n",
    "  'make_mercury',\n",
    "  'make_mitsubishi',\n",
    "  'make_nissan',\n",
    "  'make_peugot',\n",
    "  'make_plymouth',\n",
    "  'make_porsche',\n",
    "  'make_renault',\n",
    "  'make_saab',\n",
    "  'make_subaru',\n",
    "  'make_toyota',\n",
    "  'make_volkswagen',\n",
    "  'make_volvo',\n",
    "  'body-style_convertible',\n",
    "  'body-style_hardtop',\n",
    "  'body-style_hatchback',\n",
    "  'body-style_sedan',\n",
    "  'body-style_wagon',\n",
    "  'engine-type_dohc',\n",
    "  'engine-type_dohcv',\n",
    "  'engine-type_l',\n",
    "  'engine-type_ohc',\n",
    "  'engine-type_ohcf',\n",
    "  'engine-type_ohcv',\n",
    "  'engine-type_rotor',\n",
    "  'fuel-system_1bbl',\n",
    "  'fuel-system_2bbl',\n",
    "  'fuel-system_4bbl',\n",
    "  'fuel-system_idi',\n",
    "  'fuel-system_mfi',\n",
    "  'fuel-system_mpfi','fuel-system_spdi','fuel-system_spfi']}\n",
    "json_auto_data[\"columns\"].index(make_col)"
   ]
  },
  {
   "cell_type": "code",
   "execution_count": 165,
   "id": "bc5fcebc",
   "metadata": {},
   "outputs": [
    {
     "data": {
      "text/plain": [
       "63"
      ]
     },
     "execution_count": 165,
     "metadata": {},
     "output_type": "execute_result"
    }
   ],
   "source": [
    "len(json_auto_data[\"columns\"])"
   ]
  },
  {
   "cell_type": "code",
   "execution_count": 166,
   "id": "d1dd85aa",
   "metadata": {},
   "outputs": [
    {
     "data": {
      "text/plain": [
       "22"
      ]
     },
     "execution_count": 166,
     "metadata": {},
     "output_type": "execute_result"
    }
   ],
   "source": [
    "# make = \"make_audi\"\n",
    "json_auto_data[\"columns\"].index(make_col)"
   ]
  },
  {
   "cell_type": "code",
   "execution_count": 167,
   "id": "eb93fad6",
   "metadata": {},
   "outputs": [],
   "source": [
    "import json\n",
    "\n",
    "with open(\"json_auto_data.json\", \"w\") as f:\n",
    "    json.dump(json_auto_data, f)"
   ]
  },
  {
   "cell_type": "code",
   "execution_count": 168,
   "id": "e944239a",
   "metadata": {},
   "outputs": [],
   "source": [
    "# Save Model in Pickle File\n",
    "import pickle\n",
    "\n",
    "with open(\"auto_model.pkl\", \"wb\") as f:\n",
    "    pickle.dump(auto_model, f)"
   ]
  },
  {
   "cell_type": "code",
   "execution_count": null,
   "id": "dace2ac8",
   "metadata": {},
   "outputs": [],
   "source": []
  }
 ],
 "metadata": {
  "kernelspec": {
   "display_name": "Python 3 (ipykernel)",
   "language": "python",
   "name": "python3"
  },
  "language_info": {
   "codemirror_mode": {
    "name": "ipython",
    "version": 3
   },
   "file_extension": ".py",
   "mimetype": "text/x-python",
   "name": "python",
   "nbconvert_exporter": "python",
   "pygments_lexer": "ipython3",
   "version": "3.10.5"
  }
 },
 "nbformat": 4,
 "nbformat_minor": 5
}
